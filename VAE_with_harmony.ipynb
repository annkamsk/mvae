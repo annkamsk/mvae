{
 "cells": [
  {
   "cell_type": "code",
   "execution_count": 1,
   "id": "74fe4683",
   "metadata": {},
   "outputs": [],
   "source": [
    "import os\n",
    "os.environ[\"CUDA_VISIBLE_DEVICES\"]=\"1\""
   ]
  },
  {
   "cell_type": "code",
   "execution_count": 2,
   "id": "4693c557",
   "metadata": {},
   "outputs": [],
   "source": [
    "import numpy as np\n",
    "import torch\n",
    "import scanpy as sc\n",
    "import muon as mu\n",
    "import anndata\n",
    "import mudata\n",
    "import pandas as pd"
   ]
  },
  {
   "cell_type": "code",
   "execution_count": 3,
   "id": "aa23aaac",
   "metadata": {},
   "outputs": [],
   "source": [
    "%load_ext autoreload\n",
    "%autoreload 2"
   ]
  },
  {
   "cell_type": "code",
   "execution_count": 4,
   "id": "959a0926",
   "metadata": {},
   "outputs": [],
   "source": [
    "DATA_DIR = \"/media/yob/nacho_stuff/prostate_cancer/Integration/MVAE-PoE/OtF-prostate/data/\"\n",
    "mdata = mu.read(DATA_DIR + \"mdata_preprocessed_final_filtered.h5mu\")\n",
    "msi = mdata[\"msi\"]"
   ]
  },
  {
   "cell_type": "code",
   "execution_count": 5,
   "id": "3db803c2",
   "metadata": {},
   "outputs": [],
   "source": [
    "from src.vae.model import VAE\n",
    "from src.model import ModelParams\n",
    "\n",
    "model_params = ModelParams(beta=0.01, n_layers=2, z_dim=100, n_hidden=300, use_cuda=True)"
   ]
  },
  {
   "cell_type": "code",
   "execution_count": 6,
   "id": "227e2bfb",
   "metadata": {},
   "outputs": [],
   "source": [
    "from src.types import TrainParams\n",
    "train_params = TrainParams(train_size=0.8, n_epochs=100, learning_rate=1e-4, batch_size=128, \n",
    "                           add_lisi_loss=True, params_file=\"vae_harmony\")"
   ]
  },
  {
   "cell_type": "code",
   "execution_count": 7,
   "id": "154d3900",
   "metadata": {},
   "outputs": [],
   "source": [
    "torch.set_num_threads(16)\n",
    "model = VAE(msi, model_params)"
   ]
  },
  {
   "cell_type": "code",
   "execution_count": null,
   "id": "0ef2d8f9",
   "metadata": {},
   "outputs": [
    {
     "name": "stderr",
     "output_type": "stream",
     "text": [
      "/media/gambino/students_workdir/anna/OtF-prostate/src/vae/dataloader.py:49: ImplicitModificationWarning: Trying to modify attribute `.obs` of view, initializing view as actual.\n",
      "  adata.obs[BATCH_KEY] = pd.Categorical(\n",
      "/media/gambino/students_workdir/anna/OtF-prostate/src/vae/dataloader.py:49: ImplicitModificationWarning: Trying to modify attribute `.obs` of view, initializing view as actual.\n",
      "  adata.obs[BATCH_KEY] = pd.Categorical(\n",
      "100%|██████████████████████████████████████████████████████████████████████████| 266/266 [12:47<00:00,  2.88s/it]"
     ]
    },
    {
     "name": "stdout",
     "output_type": "stream",
     "text": [
      "EarlyStopping (epoch: 1): train loss improved to 0.00820470007115634\n"
     ]
    },
    {
     "name": "stderr",
     "output_type": "stream",
     "text": [
      "\n",
      "100%|████████████████████████████████████████████████████████████████████████████| 67/67 [01:05<00:00,  1.02it/s]"
     ]
    },
    {
     "name": "stdout",
     "output_type": "stream",
     "text": [
      "EarlyStopping (epoch: 1): valid loss improved to 0.9450421324416772\n"
     ]
    },
    {
     "name": "stderr",
     "output_type": "stream",
     "text": [
      "\n"
     ]
    }
   ],
   "source": [
    "from src.vae.train import train_vae\n",
    "hist = train_vae(model, msi, train_params)"
   ]
  },
  {
   "cell_type": "code",
   "execution_count": 99,
   "id": "204c6364",
   "metadata": {},
   "outputs": [],
   "source": []
  }
 ],
 "metadata": {
  "kernelspec": {
   "display_name": "ak",
   "language": "python",
   "name": "ak"
  },
  "language_info": {
   "codemirror_mode": {
    "name": "ipython",
    "version": 3
   },
   "file_extension": ".py",
   "mimetype": "text/x-python",
   "name": "python",
   "nbconvert_exporter": "python",
   "pygments_lexer": "ipython3",
   "version": "3.9.16"
  }
 },
 "nbformat": 4,
 "nbformat_minor": 5
}
