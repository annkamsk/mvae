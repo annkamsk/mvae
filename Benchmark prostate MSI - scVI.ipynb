{
 "cells": [
  {
   "cell_type": "code",
   "execution_count": 1,
   "id": "5509db63",
   "metadata": {},
   "outputs": [],
   "source": [
    "import os\n",
    "os.environ[\"CUDA_VISIBLE_DEVICES\"]=\"1\""
   ]
  },
  {
   "cell_type": "code",
   "execution_count": 2,
   "id": "9752089b",
   "metadata": {},
   "outputs": [
    {
     "name": "stderr",
     "output_type": "stream",
     "text": [
      "/media/gambino/students_workdir/anna/miniconda3/envs/scvi/lib/python3.10/site-packages/tqdm/auto.py:21: TqdmWarning: IProgress not found. Please update jupyter and ipywidgets. See https://ipywidgets.readthedocs.io/en/stable/user_install.html\n",
      "  from .autonotebook import tqdm as notebook_tqdm\n"
     ]
    }
   ],
   "source": [
    "import numpy as np\n",
    "import pandas as pd\n",
    "import scanpy as sc\n",
    "import anndata as ad\n",
    "import muon as mu\n",
    "import torch\n",
    "import matplotlib.pyplot as plt"
   ]
  },
  {
   "cell_type": "code",
   "execution_count": 3,
   "id": "6599a3f8",
   "metadata": {},
   "outputs": [],
   "source": [
    "mdata = mu.read('/media/yob/nacho_stuff/prostate_cancer/Integration/MVAE-PoE/OtF-prostate/data/mdata_preprocessed_final_filtered.h5mu')\n",
    "adata = mdata.mod[\"msi\"]"
   ]
  },
  {
   "cell_type": "code",
   "execution_count": 9,
   "id": "9a4eeeaf",
   "metadata": {},
   "outputs": [
    {
     "data": {
      "text/html": [
       "<pre>MuData object with n_obs × n_vars = 42475 × 31460\n",
       "  obs:\t&#x27;sample&#x27;, &#x27;tissue&#x27;, &#x27;patient&#x27;, &#x27;ann&#x27;, &#x27;imagerow&#x27;, &#x27;imagecol&#x27;\n",
       "  2 modalities\n",
       "    rna:\t42475 x 18950\n",
       "      obs:\t&#x27;in_tissue&#x27;, &#x27;array_row&#x27;, &#x27;array_col&#x27;, &#x27;n_genes_by_counts&#x27;, &#x27;log1p_n_genes_by_counts&#x27;, &#x27;total_counts&#x27;, &#x27;log1p_total_counts&#x27;, &#x27;pct_counts_in_top_20_genes&#x27;, &#x27;total_counts_mt&#x27;, &#x27;log1p_total_counts_mt&#x27;, &#x27;pct_counts_mt&#x27;, &#x27;total_counts_ribo&#x27;, &#x27;log1p_total_counts_ribo&#x27;, &#x27;pct_counts_ribo&#x27;, &#x27;total_counts_hb&#x27;, &#x27;log1p_total_counts_hb&#x27;, &#x27;pct_counts_hb&#x27;, &#x27;n_counts&#x27;, &#x27;n_genes&#x27;, &#x27;size_factors&#x27;, &#x27;sample&#x27;, &#x27;type&#x27;, &#x27;patient&#x27;, &#x27;ann&#x27;, &#x27;tissue&#x27;, &#x27;imagerow&#x27;, &#x27;imagecol&#x27;\n",
       "      obsm:\t&#x27;spatial&#x27;\n",
       "      layers:\t&#x27;counts&#x27;, &#x27;scran_normalization&#x27;, &#x27;spotclean&#x27;\n",
       "    msi:\t42475 x 12510\n",
       "      obs:\t&#x27;ST_barcode&#x27;, &#x27;sample&#x27;, &#x27;tissue&#x27;, &#x27;patient&#x27;, &#x27;ann&#x27;, &#x27;imagerow&#x27;, &#x27;imagecol&#x27;\n",
       "      obsm:\t&#x27;spatial&#x27;</pre>"
      ],
      "text/plain": [
       "MuData object with n_obs × n_vars = 42475 × 31460\n",
       "  obs:\t'sample', 'tissue', 'patient', 'ann', 'imagerow', 'imagecol'\n",
       "  2 modalities\n",
       "    rna:\t42475 x 18950\n",
       "      obs:\t'in_tissue', 'array_row', 'array_col', 'n_genes_by_counts', 'log1p_n_genes_by_counts', 'total_counts', 'log1p_total_counts', 'pct_counts_in_top_20_genes', 'total_counts_mt', 'log1p_total_counts_mt', 'pct_counts_mt', 'total_counts_ribo', 'log1p_total_counts_ribo', 'pct_counts_ribo', 'total_counts_hb', 'log1p_total_counts_hb', 'pct_counts_hb', 'n_counts', 'n_genes', 'size_factors', 'sample', 'type', 'patient', 'ann', 'tissue', 'imagerow', 'imagecol'\n",
       "      obsm:\t'spatial'\n",
       "      layers:\t'counts', 'scran_normalization', 'spotclean'\n",
       "    msi:\t42475 x 12510\n",
       "      obs:\t'ST_barcode', 'sample', 'tissue', 'patient', 'ann', 'imagerow', 'imagecol'\n",
       "      obsm:\t'spatial'"
      ]
     },
     "execution_count": 9,
     "metadata": {},
     "output_type": "execute_result"
    }
   ],
   "source": [
    "# adata.layers[\"counts\"] = mdata.layers[\"counts\"]\n",
    "mdata"
   ]
  },
  {
   "cell_type": "code",
   "execution_count": 4,
   "id": "dafe336e",
   "metadata": {},
   "outputs": [],
   "source": [
    "sc.pp.normalize_total(adata, target_sum=1e4)"
   ]
  },
  {
   "cell_type": "code",
   "execution_count": 10,
   "id": "8e8cce57",
   "metadata": {},
   "outputs": [
    {
     "name": "stderr",
     "output_type": "stream",
     "text": [
      "/media/gambino/students_workdir/anna/miniconda3/envs/scvi/lib/python3.10/site-packages/scvi/data/fields/_layer_field.py:90: UserWarning: adata.X does not contain unnormalized count data. Are you sure this is what you want?\n",
      "  warnings.warn(\n",
      "GPU available: True (cuda), used: True\n",
      "TPU available: False, using: 0 TPU cores\n",
      "IPU available: False, using: 0 IPUs\n",
      "HPU available: False, using: 0 HPUs\n",
      "You are using a CUDA device ('NVIDIA GeForce RTX 4080') that has Tensor Cores. To properly utilize them, you should set `torch.set_float32_matmul_precision('medium' | 'high')` which will trade-off precision for performance. For more details, read https://pytorch.org/docs/stable/generated/torch.set_float32_matmul_precision.html#torch.set_float32_matmul_precision\n",
      "LOCAL_RANK: 0 - CUDA_VISIBLE_DEVICES: [1]\n"
     ]
    },
    {
     "name": "stdout",
     "output_type": "stream",
     "text": [
      "Epoch 1/188:   0%|                                                                   | 0/188 [00:00<?, ?it/s]"
     ]
    },
    {
     "name": "stderr",
     "output_type": "stream",
     "text": [
      "/media/gambino/students_workdir/anna/miniconda3/envs/scvi/lib/python3.10/site-packages/scvi/distributions/_negative_binomial.py:476: UserWarning: The value argument must be within the support of the distribution\n",
      "  warnings.warn(\n",
      "/media/gambino/students_workdir/anna/miniconda3/envs/scvi/lib/python3.10/site-packages/scvi/distributions/_negative_binomial.py:476: UserWarning: The value argument must be within the support of the distribution\n",
      "  warnings.warn(\n"
     ]
    },
    {
     "name": "stdout",
     "output_type": "stream",
     "text": [
      "Epoch 2/188:   1%|▏                                  | 1/188 [00:08<26:19,  8.45s/it, loss=8.44e+03, v_num=1]"
     ]
    },
    {
     "name": "stderr",
     "output_type": "stream",
     "text": [
      "/media/gambino/students_workdir/anna/miniconda3/envs/scvi/lib/python3.10/site-packages/scvi/distributions/_negative_binomial.py:476: UserWarning: The value argument must be within the support of the distribution\n",
      "  warnings.warn(\n"
     ]
    },
    {
     "name": "stdout",
     "output_type": "stream",
     "text": [
      "Epoch 188/188: 100%|███████████████████████████████| 188/188 [08:24<00:00,  2.64s/it, loss=6.67e+03, v_num=1]"
     ]
    },
    {
     "name": "stderr",
     "output_type": "stream",
     "text": [
      "`Trainer.fit` stopped: `max_epochs=188` reached.\n"
     ]
    },
    {
     "name": "stdout",
     "output_type": "stream",
     "text": [
      "Epoch 188/188: 100%|███████████████████████████████| 188/188 [08:24<00:00,  2.68s/it, loss=6.67e+03, v_num=1]\n"
     ]
    }
   ],
   "source": [
    "import scvi\n",
    "scvi.model.SCVI.setup_anndata(adata, layer=None, batch_key=\"sample\")\n",
    "vae = scvi.model.SCVI(adata, n_layers=2, n_latent=30)\n",
    "vae.train()\n",
    "adata.obsm[\"scVI\"] = vae.get_latent_representation()"
   ]
  },
  {
   "cell_type": "code",
   "execution_count": 11,
   "id": "94aced0a",
   "metadata": {},
   "outputs": [],
   "source": [
    "adata.write_h5ad(\"reports/scvi_prostate_msi.h5ad\")"
   ]
  },
  {
   "cell_type": "code",
   "execution_count": null,
   "id": "afeaa58a",
   "metadata": {},
   "outputs": [],
   "source": []
  }
 ],
 "metadata": {
  "kernelspec": {
   "display_name": "scvi",
   "language": "python",
   "name": "scvi"
  },
  "language_info": {
   "codemirror_mode": {
    "name": "ipython",
    "version": 3
   },
   "file_extension": ".py",
   "mimetype": "text/x-python",
   "name": "python",
   "nbconvert_exporter": "python",
   "pygments_lexer": "ipython3",
   "version": "3.10.10"
  }
 },
 "nbformat": 4,
 "nbformat_minor": 5
}
