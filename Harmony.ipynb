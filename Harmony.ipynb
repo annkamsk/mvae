{
 "cells": [
  {
   "cell_type": "code",
   "execution_count": 1,
   "id": "0f7d46b7",
   "metadata": {},
   "outputs": [],
   "source": [
    "import os\n",
    "os.environ[\"CUDA_VISIBLE_DEVICES\"]=\"1\"\n",
    "os.environ[\"CUDA_LAUNCH_BLOCKING\"]=\"1\""
   ]
  },
  {
   "cell_type": "code",
   "execution_count": 2,
   "id": "c94492a1",
   "metadata": {},
   "outputs": [],
   "source": [
    "import numpy as np\n",
    "import torch\n",
    "import scanpy as sc\n",
    "import muon as mu\n",
    "import anndata\n",
    "import mudata\n",
    "import pandas as pd"
   ]
  },
  {
   "cell_type": "code",
   "execution_count": 3,
   "id": "9caef4fa",
   "metadata": {},
   "outputs": [],
   "source": [
    "%load_ext autoreload\n",
    "%autoreload 2"
   ]
  },
  {
   "cell_type": "code",
   "execution_count": 4,
   "id": "bae9603a",
   "metadata": {},
   "outputs": [
    {
     "data": {
      "text/html": [
       "<pre>MuData object with n_obs × n_vars = 42475 × 31460\n",
       "  obs:\t&#x27;sample&#x27;, &#x27;tissue&#x27;, &#x27;patient&#x27;, &#x27;ann&#x27;, &#x27;imagerow&#x27;, &#x27;imagecol&#x27;\n",
       "  2 modalities\n",
       "    rna:\t42475 x 18950\n",
       "      obs:\t&#x27;in_tissue&#x27;, &#x27;array_row&#x27;, &#x27;array_col&#x27;, &#x27;n_genes_by_counts&#x27;, &#x27;log1p_n_genes_by_counts&#x27;, &#x27;total_counts&#x27;, &#x27;log1p_total_counts&#x27;, &#x27;pct_counts_in_top_20_genes&#x27;, &#x27;total_counts_mt&#x27;, &#x27;log1p_total_counts_mt&#x27;, &#x27;pct_counts_mt&#x27;, &#x27;total_counts_ribo&#x27;, &#x27;log1p_total_counts_ribo&#x27;, &#x27;pct_counts_ribo&#x27;, &#x27;total_counts_hb&#x27;, &#x27;log1p_total_counts_hb&#x27;, &#x27;pct_counts_hb&#x27;, &#x27;n_counts&#x27;, &#x27;n_genes&#x27;, &#x27;size_factors&#x27;, &#x27;sample&#x27;, &#x27;type&#x27;, &#x27;patient&#x27;, &#x27;ann&#x27;, &#x27;tissue&#x27;, &#x27;imagerow&#x27;, &#x27;imagecol&#x27;\n",
       "      obsm:\t&#x27;spatial&#x27;\n",
       "      layers:\t&#x27;counts&#x27;, &#x27;scran_normalization&#x27;, &#x27;spotclean&#x27;\n",
       "    msi:\t42475 x 12510\n",
       "      obs:\t&#x27;ST_barcode&#x27;, &#x27;sample&#x27;, &#x27;tissue&#x27;, &#x27;patient&#x27;, &#x27;ann&#x27;, &#x27;imagerow&#x27;, &#x27;imagecol&#x27;\n",
       "      obsm:\t&#x27;spatial&#x27;</pre>"
      ],
      "text/plain": [
       "MuData object with n_obs × n_vars = 42475 × 31460\n",
       "  obs:\t'sample', 'tissue', 'patient', 'ann', 'imagerow', 'imagecol'\n",
       "  2 modalities\n",
       "    rna:\t42475 x 18950\n",
       "      obs:\t'in_tissue', 'array_row', 'array_col', 'n_genes_by_counts', 'log1p_n_genes_by_counts', 'total_counts', 'log1p_total_counts', 'pct_counts_in_top_20_genes', 'total_counts_mt', 'log1p_total_counts_mt', 'pct_counts_mt', 'total_counts_ribo', 'log1p_total_counts_ribo', 'pct_counts_ribo', 'total_counts_hb', 'log1p_total_counts_hb', 'pct_counts_hb', 'n_counts', 'n_genes', 'size_factors', 'sample', 'type', 'patient', 'ann', 'tissue', 'imagerow', 'imagecol'\n",
       "      obsm:\t'spatial'\n",
       "      layers:\t'counts', 'scran_normalization', 'spotclean'\n",
       "    msi:\t42475 x 12510\n",
       "      obs:\t'ST_barcode', 'sample', 'tissue', 'patient', 'ann', 'imagerow', 'imagecol'\n",
       "      obsm:\t'spatial'"
      ]
     },
     "execution_count": 4,
     "metadata": {},
     "output_type": "execute_result"
    }
   ],
   "source": [
    "DATA_DIR = \"/media/yob/nacho_stuff/prostate_cancer/Integration/MVAE-PoE/OtF-prostate/data/\"\n",
    "mdata = mu.read(DATA_DIR + \"mdata_preprocessed_final_filtered.h5mu\")\n",
    "mdata"
   ]
  },
  {
   "cell_type": "code",
   "execution_count": 5,
   "id": "679df1c8",
   "metadata": {},
   "outputs": [],
   "source": [
    "from src.model import MVAE, MVAEParams\n",
    "\n",
    "mvae_params = MVAEParams(beta=0.01, n_layers=2, z_dim=100, n_hidden=300)"
   ]
  },
  {
   "cell_type": "code",
   "execution_count": 6,
   "id": "a0b6009e",
   "metadata": {},
   "outputs": [
    {
     "name": "stdout",
     "output_type": "stream",
     "text": [
      "N batches for mod1:  16\n",
      "N batches for mod2:  16\n",
      "(42475, 18950)\n",
      "(42475, 12510)\n"
     ]
    },
    {
     "data": {
      "text/plain": [
       "MVAE(\n",
       "  (rna): ModalityLayers(\n",
       "    (shared_sampling): SamplingLayers(\n",
       "      (mean): Sequential(\n",
       "        (0): Linear(in_features=300, out_features=100, bias=True)\n",
       "        (1): Dropout(p=0.3, inplace=False)\n",
       "      )\n",
       "      (logvar): Sequential(\n",
       "        (0): Linear(in_features=300, out_features=100, bias=True)\n",
       "        (1): Dropout(p=0.3, inplace=False)\n",
       "      )\n",
       "    )\n",
       "    (batch_sampling): SamplingLayers(\n",
       "      (mean): Sequential(\n",
       "        (0): Linear(in_features=300, out_features=1600, bias=True)\n",
       "        (1): Dropout(p=0.3, inplace=False)\n",
       "      )\n",
       "      (logvar): Sequential(\n",
       "        (0): Linear(in_features=300, out_features=1600, bias=True)\n",
       "        (1): Dropout(p=0.3, inplace=False)\n",
       "      )\n",
       "    )\n",
       "    (private_sampling): SamplingLayers(\n",
       "      (mean): Sequential(\n",
       "        (0): Linear(in_features=300, out_features=100, bias=True)\n",
       "        (1): Dropout(p=0.3, inplace=False)\n",
       "      )\n",
       "      (logvar): Sequential(\n",
       "        (0): Linear(in_features=300, out_features=100, bias=True)\n",
       "        (1): Dropout(p=0.3, inplace=False)\n",
       "      )\n",
       "    )\n",
       "    (encoder): FullyConnectedLayers(\n",
       "      (layers): Sequential(\n",
       "        (0): Sequential(\n",
       "          (0): Linear(in_features=18950, out_features=300, bias=True)\n",
       "          (1): BatchNorm1d(300, eps=0.001, momentum=0.01, affine=True, track_running_stats=True)\n",
       "          (2): ReLU()\n",
       "          (3): Dropout(p=0.1, inplace=False)\n",
       "        )\n",
       "        (1): Sequential(\n",
       "          (0): Linear(in_features=300, out_features=300, bias=True)\n",
       "          (1): BatchNorm1d(300, eps=0.001, momentum=0.01, affine=True, track_running_stats=True)\n",
       "          (2): ReLU()\n",
       "          (3): Dropout(p=0.1, inplace=False)\n",
       "        )\n",
       "      )\n",
       "    )\n",
       "    (decoder): FullyConnectedLayers(\n",
       "      (layers): Sequential(\n",
       "        (0): Sequential(\n",
       "          (0): Linear(in_features=100, out_features=300, bias=True)\n",
       "          (1): BatchNorm1d(300, eps=0.001, momentum=0.01, affine=True, track_running_stats=True)\n",
       "          (2): ReLU()\n",
       "          (3): Dropout(p=0.1, inplace=False)\n",
       "        )\n",
       "        (1): Sequential(\n",
       "          (0): Linear(in_features=300, out_features=300, bias=True)\n",
       "          (1): BatchNorm1d(300, eps=0.001, momentum=0.01, affine=True, track_running_stats=True)\n",
       "          (2): ReLU()\n",
       "          (3): Dropout(p=0.1, inplace=False)\n",
       "        )\n",
       "      )\n",
       "    )\n",
       "    (final): Sequential(\n",
       "      (0): Linear(in_features=300, out_features=18950, bias=True)\n",
       "      (1): ReLU()\n",
       "    )\n",
       "  )\n",
       "  (msi): ModalityLayers(\n",
       "    (shared_sampling): SamplingLayers(\n",
       "      (mean): Sequential(\n",
       "        (0): Linear(in_features=300, out_features=100, bias=True)\n",
       "        (1): Dropout(p=0.3, inplace=False)\n",
       "      )\n",
       "      (logvar): Sequential(\n",
       "        (0): Linear(in_features=300, out_features=100, bias=True)\n",
       "        (1): Dropout(p=0.3, inplace=False)\n",
       "      )\n",
       "    )\n",
       "    (batch_sampling): SamplingLayers(\n",
       "      (mean): Sequential(\n",
       "        (0): Linear(in_features=300, out_features=1600, bias=True)\n",
       "        (1): Dropout(p=0.3, inplace=False)\n",
       "      )\n",
       "      (logvar): Sequential(\n",
       "        (0): Linear(in_features=300, out_features=1600, bias=True)\n",
       "        (1): Dropout(p=0.3, inplace=False)\n",
       "      )\n",
       "    )\n",
       "    (private_sampling): SamplingLayers(\n",
       "      (mean): Sequential(\n",
       "        (0): Linear(in_features=300, out_features=100, bias=True)\n",
       "        (1): Dropout(p=0.3, inplace=False)\n",
       "      )\n",
       "      (logvar): Sequential(\n",
       "        (0): Linear(in_features=300, out_features=100, bias=True)\n",
       "        (1): Dropout(p=0.3, inplace=False)\n",
       "      )\n",
       "    )\n",
       "    (encoder): FullyConnectedLayers(\n",
       "      (layers): Sequential(\n",
       "        (0): Sequential(\n",
       "          (0): Linear(in_features=12510, out_features=300, bias=True)\n",
       "          (1): BatchNorm1d(300, eps=0.001, momentum=0.01, affine=True, track_running_stats=True)\n",
       "          (2): ReLU()\n",
       "          (3): Dropout(p=0.1, inplace=False)\n",
       "        )\n",
       "        (1): Sequential(\n",
       "          (0): Linear(in_features=300, out_features=300, bias=True)\n",
       "          (1): BatchNorm1d(300, eps=0.001, momentum=0.01, affine=True, track_running_stats=True)\n",
       "          (2): ReLU()\n",
       "          (3): Dropout(p=0.1, inplace=False)\n",
       "        )\n",
       "      )\n",
       "    )\n",
       "    (decoder): FullyConnectedLayers(\n",
       "      (layers): Sequential(\n",
       "        (0): Sequential(\n",
       "          (0): Linear(in_features=100, out_features=300, bias=True)\n",
       "          (1): BatchNorm1d(300, eps=0.001, momentum=0.01, affine=True, track_running_stats=True)\n",
       "          (2): ReLU()\n",
       "          (3): Dropout(p=0.1, inplace=False)\n",
       "        )\n",
       "        (1): Sequential(\n",
       "          (0): Linear(in_features=300, out_features=300, bias=True)\n",
       "          (1): BatchNorm1d(300, eps=0.001, momentum=0.01, affine=True, track_running_stats=True)\n",
       "          (2): ReLU()\n",
       "          (3): Dropout(p=0.1, inplace=False)\n",
       "        )\n",
       "      )\n",
       "    )\n",
       "    (final): Sequential(\n",
       "      (0): Linear(in_features=300, out_features=12510, bias=True)\n",
       "      (1): ReLU()\n",
       "    )\n",
       "  )\n",
       "  (poe): PoE()\n",
       ")"
      ]
     },
     "execution_count": 6,
     "metadata": {},
     "output_type": "execute_result"
    }
   ],
   "source": [
    "torch.set_num_threads(16)\n",
    "model = MVAE(mdata, mvae_params, use_cuda=True)\n",
    "model"
   ]
  },
  {
   "cell_type": "code",
   "execution_count": 7,
   "id": "fb4a83bd",
   "metadata": {},
   "outputs": [],
   "source": [
    "from src.train import train_mvae, TrainParams\n",
    "train_params = TrainParams(train_size=0.8, n_epochs=100, learning_rate=1e-4, batch_size=128)"
   ]
  },
  {
   "cell_type": "code",
   "execution_count": null,
   "id": "b7dd6c5c",
   "metadata": {},
   "outputs": [
    {
     "name": "stdout",
     "output_type": "stream",
     "text": [
      "Train data size: 33980\n",
      "Test data size: 8495\n"
     ]
    },
    {
     "name": "stderr",
     "output_type": "stream",
     "text": [
      " 59%|████████████████████████▎                | 158/266 [12:06<08:31,  4.74s/it]"
     ]
    }
   ],
   "source": [
    "torch.autograd.set_detect_anomaly(True)\n",
    "hist = train_mvae(model, mdata, train_params)"
   ]
  },
  {
   "cell_type": "code",
   "execution_count": null,
   "id": "cf3a5174",
   "metadata": {},
   "outputs": [],
   "source": []
  }
 ],
 "metadata": {
  "kernelspec": {
   "display_name": "ak",
   "language": "python",
   "name": "ak"
  },
  "language_info": {
   "codemirror_mode": {
    "name": "ipython",
    "version": 3
   },
   "file_extension": ".py",
   "mimetype": "text/x-python",
   "name": "python",
   "nbconvert_exporter": "python",
   "pygments_lexer": "ipython3",
   "version": "3.9.16"
  }
 },
 "nbformat": 4,
 "nbformat_minor": 5
}
