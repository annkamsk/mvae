{
 "cells": [
  {
   "cell_type": "code",
   "execution_count": 1,
   "id": "0f7d46b7",
   "metadata": {},
   "outputs": [],
   "source": [
    "import os\n",
    "os.environ[\"CUDA_VISIBLE_DEVICES\"]=\"1\""
   ]
  },
  {
   "cell_type": "code",
   "execution_count": 2,
   "id": "c94492a1",
   "metadata": {},
   "outputs": [],
   "source": [
    "import numpy as np\n",
    "import torch\n",
    "import scanpy as sc\n",
    "import muon as mu\n",
    "import anndata\n",
    "import mudata\n",
    "import pandas as pd"
   ]
  },
  {
   "cell_type": "code",
   "execution_count": 3,
   "id": "9caef4fa",
   "metadata": {},
   "outputs": [],
   "source": [
    "%load_ext autoreload\n",
    "%autoreload 2"
   ]
  },
  {
   "cell_type": "code",
   "execution_count": 4,
   "id": "bae9603a",
   "metadata": {},
   "outputs": [
    {
     "data": {
      "text/html": [
       "<pre>MuData object with n_obs × n_vars = 5000 × 41910\n",
       "  obs:\t&#x27;imagerow&#x27;, &#x27;imagecol&#x27;, &#x27;ann&#x27;, &#x27;sample&#x27;, &#x27;patient&#x27;\n",
       "  2 modalities\n",
       "    rna:\t5000 x 29400\n",
       "      obs:\t&#x27;in_tissue&#x27;, &#x27;array_row&#x27;, &#x27;array_col&#x27;, &#x27;n_genes_by_counts&#x27;, &#x27;log1p_n_genes_by_counts&#x27;, &#x27;total_counts&#x27;, &#x27;log1p_total_counts&#x27;, &#x27;pct_counts_in_top_20_genes&#x27;, &#x27;total_counts_mt&#x27;, &#x27;log1p_total_counts_mt&#x27;, &#x27;pct_counts_mt&#x27;, &#x27;total_counts_ribo&#x27;, &#x27;log1p_total_counts_ribo&#x27;, &#x27;pct_counts_ribo&#x27;, &#x27;total_counts_hb&#x27;, &#x27;log1p_total_counts_hb&#x27;, &#x27;pct_counts_hb&#x27;, &#x27;n_counts&#x27;, &#x27;n_genes&#x27;, &#x27;size_factors&#x27;, &#x27;sample&#x27;, &#x27;type&#x27;, &#x27;patient&#x27;, &#x27;clusters&#x27;, &#x27;tissue&#x27;, &#x27;imagerow&#x27;, &#x27;imagecol&#x27;, &#x27;ann&#x27;\n",
       "      obsm:\t&#x27;X_pca&#x27;, &#x27;X_umap&#x27;, &#x27;spatial&#x27;\n",
       "      layers:\t&#x27;counts&#x27;, &#x27;scran_normalization&#x27;, &#x27;spotclean&#x27;\n",
       "    msi:\t5000 x 12510\n",
       "      obs:\t&#x27;ST_barcode&#x27;, &#x27;sample&#x27;, &#x27;tissue&#x27;, &#x27;imagerow&#x27;, &#x27;imagecol&#x27;, &#x27;ann&#x27;, &#x27;patient&#x27;\n",
       "      var:\t&#x27;mz_values&#x27;\n",
       "      obsm:\t&#x27;spatial&#x27;</pre>"
      ],
      "text/plain": [
       "MuData object with n_obs × n_vars = 5000 × 41910\n",
       "  obs:\t'imagerow', 'imagecol', 'ann', 'sample', 'patient'\n",
       "  2 modalities\n",
       "    rna:\t5000 x 29400\n",
       "      obs:\t'in_tissue', 'array_row', 'array_col', 'n_genes_by_counts', 'log1p_n_genes_by_counts', 'total_counts', 'log1p_total_counts', 'pct_counts_in_top_20_genes', 'total_counts_mt', 'log1p_total_counts_mt', 'pct_counts_mt', 'total_counts_ribo', 'log1p_total_counts_ribo', 'pct_counts_ribo', 'total_counts_hb', 'log1p_total_counts_hb', 'pct_counts_hb', 'n_counts', 'n_genes', 'size_factors', 'sample', 'type', 'patient', 'clusters', 'tissue', 'imagerow', 'imagecol', 'ann'\n",
       "      obsm:\t'X_pca', 'X_umap', 'spatial'\n",
       "      layers:\t'counts', 'scran_normalization', 'spotclean'\n",
       "    msi:\t5000 x 12510\n",
       "      obs:\t'ST_barcode', 'sample', 'tissue', 'imagerow', 'imagecol', 'ann', 'patient'\n",
       "      var:\t'mz_values'\n",
       "      obsm:\t'spatial'"
      ]
     },
     "execution_count": 4,
     "metadata": {},
     "output_type": "execute_result"
    }
   ],
   "source": [
    "mdata = mu.read(\"data/mdata_preprocessed_final_5k_obs.h5mu\")\n",
    "mdata"
   ]
  },
  {
   "cell_type": "code",
   "execution_count": 5,
   "id": "730ea9a0",
   "metadata": {},
   "outputs": [
    {
     "data": {
      "text/plain": [
       "tensor([[0.0734],\n",
       "        [0.0716],\n",
       "        [0.0672],\n",
       "        [0.0770],\n",
       "        [0.0604],\n",
       "        [0.0612],\n",
       "        [0.0578],\n",
       "        [0.0514],\n",
       "        [0.0588],\n",
       "        [0.0716],\n",
       "        [0.0716],\n",
       "        [0.0564],\n",
       "        [0.0460],\n",
       "        [0.0478],\n",
       "        [0.0708],\n",
       "        [0.0570]])"
      ]
     },
     "execution_count": 5,
     "metadata": {},
     "output_type": "execute_result"
    }
   ],
   "source": [
    "from src.utils import setup_mudata\n",
    "setup_mudata(mdata)\n",
    "\n",
    "n_cells = mdata[\"rna\"].shape[0]\n",
    "batch_id = torch.ByteTensor(mdata[\"rna\"].obs.loc[:, \"batch_id\"].values)\n",
    "_, N_b = torch.unique(batch_id, sorted=True, return_counts=True)\n",
    "N_b.view(-1, 1) / n_cells"
   ]
  },
  {
   "cell_type": "code",
   "execution_count": 14,
   "id": "39e15bbb",
   "metadata": {},
   "outputs": [
    {
     "data": {
      "text/plain": [
       "16"
      ]
     },
     "execution_count": 14,
     "metadata": {},
     "output_type": "execute_result"
    }
   ],
   "source": [
    "N_b.size(dim=0)"
   ]
  },
  {
   "cell_type": "code",
   "execution_count": 129,
   "id": "0e9bc1ef",
   "metadata": {},
   "outputs": [],
   "source": [
    "batch_codes = mdata[\"rna\"].obs[\"sample\"].astype(\"category\")"
   ]
  },
  {
   "cell_type": "code",
   "execution_count": 88,
   "id": "4609b6ed",
   "metadata": {},
   "outputs": [],
   "source": [
    "ids = torch.as_tensor(batch_codes.cat.codes.values, dtype=torch.long).view(-1, 1)"
   ]
  },
  {
   "cell_type": "code",
   "execution_count": 82,
   "id": "68053f33",
   "metadata": {},
   "outputs": [
    {
     "data": {
      "text/plain": [
       "tensor([[ 8],\n",
       "        [ 8],\n",
       "        [ 5],\n",
       "        ...,\n",
       "        [ 8],\n",
       "        [ 5],\n",
       "        [10]], dtype=torch.int8)"
      ]
     },
     "execution_count": 82,
     "metadata": {},
     "output_type": "execute_result"
    }
   ],
   "source": [
    "ids"
   ]
  },
  {
   "cell_type": "code",
   "execution_count": 7,
   "id": "88c1d65a",
   "metadata": {
    "scrolled": true
   },
   "outputs": [
    {
     "data": {
      "text/plain": [
       "tensor([[0., 0., 0.,  ..., 0., 0., 0.],\n",
       "        [0., 0., 0.,  ..., 0., 0., 0.],\n",
       "        [0., 0., 0.,  ..., 0., 0., 0.],\n",
       "        ...,\n",
       "        [0., 0., 0.,  ..., 0., 0., 0.],\n",
       "        [0., 0., 0.,  ..., 0., 0., 0.],\n",
       "        [0., 0., 0.,  ..., 0., 0., 0.]])"
      ]
     },
     "execution_count": 7,
     "metadata": {},
     "output_type": "execute_result"
    }
   ],
   "source": [
    "Phi = torch.zeros(n_cells, N_b.size(dim=0))\n",
    "Phi"
   ]
  },
  {
   "cell_type": "code",
   "execution_count": 11,
   "id": "3c9f19ad",
   "metadata": {},
   "outputs": [
    {
     "data": {
      "text/plain": [
       "tensor([0., 0., 0., 0., 0., 0., 0., 1., 0., 0., 0., 0., 0., 0., 0., 0.])"
      ]
     },
     "execution_count": 11,
     "metadata": {},
     "output_type": "execute_result"
    }
   ],
   "source": [
    "Phi1 = torch.scatter(Phi, 1, batch_id_long, 1.0)\n",
    "Phi1[10]"
   ]
  },
  {
   "cell_type": "code",
   "execution_count": 5,
   "id": "679df1c8",
   "metadata": {},
   "outputs": [],
   "source": [
    "from src.model import MVAE, MVAEParams\n",
    "\n",
    "mvae_params = MVAEParams(beta=0.01, n_layers=2, z_dim=100, n_hidden=300)"
   ]
  },
  {
   "cell_type": "code",
   "execution_count": 6,
   "id": "a0b6009e",
   "metadata": {},
   "outputs": [
    {
     "name": "stdout",
     "output_type": "stream",
     "text": [
      "N batches for mod1:  16\n",
      "N batches for mod2:  16\n",
      "(5000, 29400)\n",
      "(5000, 12510)\n"
     ]
    },
    {
     "data": {
      "text/plain": [
       "MVAE(\n",
       "  (rna): ModalityLayers(\n",
       "    (shared_sampling): SamplingLayers(\n",
       "      (mean): Sequential(\n",
       "        (0): Linear(in_features=300, out_features=100, bias=True)\n",
       "        (1): Dropout(p=0.3, inplace=False)\n",
       "      )\n",
       "      (logvar): Sequential(\n",
       "        (0): Linear(in_features=300, out_features=100, bias=True)\n",
       "        (1): Dropout(p=0.3, inplace=False)\n",
       "      )\n",
       "    )\n",
       "    (batch_sampling): SamplingLayers(\n",
       "      (mean): Sequential(\n",
       "        (0): Linear(in_features=300, out_features=1600, bias=True)\n",
       "        (1): Dropout(p=0.3, inplace=False)\n",
       "      )\n",
       "      (logvar): Sequential(\n",
       "        (0): Linear(in_features=300, out_features=1600, bias=True)\n",
       "        (1): Dropout(p=0.3, inplace=False)\n",
       "      )\n",
       "    )\n",
       "    (private_sampling): SamplingLayers(\n",
       "      (mean): Sequential(\n",
       "        (0): Linear(in_features=300, out_features=100, bias=True)\n",
       "        (1): Dropout(p=0.3, inplace=False)\n",
       "      )\n",
       "      (logvar): Sequential(\n",
       "        (0): Linear(in_features=300, out_features=100, bias=True)\n",
       "        (1): Dropout(p=0.3, inplace=False)\n",
       "      )\n",
       "    )\n",
       "    (encoder): FullyConnectedLayers(\n",
       "      (layers): Sequential(\n",
       "        (0): Sequential(\n",
       "          (0): Linear(in_features=29400, out_features=300, bias=True)\n",
       "          (1): BatchNorm1d(300, eps=0.001, momentum=0.01, affine=True, track_running_stats=True)\n",
       "          (2): ReLU()\n",
       "          (3): Dropout(p=0.1, inplace=False)\n",
       "        )\n",
       "        (1): Sequential(\n",
       "          (0): Linear(in_features=300, out_features=300, bias=True)\n",
       "          (1): BatchNorm1d(300, eps=0.001, momentum=0.01, affine=True, track_running_stats=True)\n",
       "          (2): ReLU()\n",
       "          (3): Dropout(p=0.1, inplace=False)\n",
       "        )\n",
       "      )\n",
       "    )\n",
       "    (decoder): FullyConnectedLayers(\n",
       "      (layers): Sequential(\n",
       "        (0): Sequential(\n",
       "          (0): Linear(in_features=100, out_features=300, bias=True)\n",
       "          (1): BatchNorm1d(300, eps=0.001, momentum=0.01, affine=True, track_running_stats=True)\n",
       "          (2): ReLU()\n",
       "          (3): Dropout(p=0.1, inplace=False)\n",
       "        )\n",
       "        (1): Sequential(\n",
       "          (0): Linear(in_features=300, out_features=300, bias=True)\n",
       "          (1): BatchNorm1d(300, eps=0.001, momentum=0.01, affine=True, track_running_stats=True)\n",
       "          (2): ReLU()\n",
       "          (3): Dropout(p=0.1, inplace=False)\n",
       "        )\n",
       "      )\n",
       "    )\n",
       "    (final): Sequential(\n",
       "      (0): Linear(in_features=300, out_features=29400, bias=True)\n",
       "      (1): ReLU()\n",
       "    )\n",
       "  )\n",
       "  (msi): ModalityLayers(\n",
       "    (shared_sampling): SamplingLayers(\n",
       "      (mean): Sequential(\n",
       "        (0): Linear(in_features=300, out_features=100, bias=True)\n",
       "        (1): Dropout(p=0.3, inplace=False)\n",
       "      )\n",
       "      (logvar): Sequential(\n",
       "        (0): Linear(in_features=300, out_features=100, bias=True)\n",
       "        (1): Dropout(p=0.3, inplace=False)\n",
       "      )\n",
       "    )\n",
       "    (batch_sampling): SamplingLayers(\n",
       "      (mean): Sequential(\n",
       "        (0): Linear(in_features=300, out_features=1600, bias=True)\n",
       "        (1): Dropout(p=0.3, inplace=False)\n",
       "      )\n",
       "      (logvar): Sequential(\n",
       "        (0): Linear(in_features=300, out_features=1600, bias=True)\n",
       "        (1): Dropout(p=0.3, inplace=False)\n",
       "      )\n",
       "    )\n",
       "    (private_sampling): SamplingLayers(\n",
       "      (mean): Sequential(\n",
       "        (0): Linear(in_features=300, out_features=100, bias=True)\n",
       "        (1): Dropout(p=0.3, inplace=False)\n",
       "      )\n",
       "      (logvar): Sequential(\n",
       "        (0): Linear(in_features=300, out_features=100, bias=True)\n",
       "        (1): Dropout(p=0.3, inplace=False)\n",
       "      )\n",
       "    )\n",
       "    (encoder): FullyConnectedLayers(\n",
       "      (layers): Sequential(\n",
       "        (0): Sequential(\n",
       "          (0): Linear(in_features=12510, out_features=300, bias=True)\n",
       "          (1): BatchNorm1d(300, eps=0.001, momentum=0.01, affine=True, track_running_stats=True)\n",
       "          (2): ReLU()\n",
       "          (3): Dropout(p=0.1, inplace=False)\n",
       "        )\n",
       "        (1): Sequential(\n",
       "          (0): Linear(in_features=300, out_features=300, bias=True)\n",
       "          (1): BatchNorm1d(300, eps=0.001, momentum=0.01, affine=True, track_running_stats=True)\n",
       "          (2): ReLU()\n",
       "          (3): Dropout(p=0.1, inplace=False)\n",
       "        )\n",
       "      )\n",
       "    )\n",
       "    (decoder): FullyConnectedLayers(\n",
       "      (layers): Sequential(\n",
       "        (0): Sequential(\n",
       "          (0): Linear(in_features=100, out_features=300, bias=True)\n",
       "          (1): BatchNorm1d(300, eps=0.001, momentum=0.01, affine=True, track_running_stats=True)\n",
       "          (2): ReLU()\n",
       "          (3): Dropout(p=0.1, inplace=False)\n",
       "        )\n",
       "        (1): Sequential(\n",
       "          (0): Linear(in_features=300, out_features=300, bias=True)\n",
       "          (1): BatchNorm1d(300, eps=0.001, momentum=0.01, affine=True, track_running_stats=True)\n",
       "          (2): ReLU()\n",
       "          (3): Dropout(p=0.1, inplace=False)\n",
       "        )\n",
       "      )\n",
       "    )\n",
       "    (final): Sequential(\n",
       "      (0): Linear(in_features=300, out_features=12510, bias=True)\n",
       "      (1): ReLU()\n",
       "    )\n",
       "  )\n",
       "  (poe): PoE()\n",
       ")"
      ]
     },
     "execution_count": 6,
     "metadata": {},
     "output_type": "execute_result"
    }
   ],
   "source": [
    "torch.set_num_threads(16)\n",
    "model = MVAE(mdata, mvae_params, use_cuda=True)\n",
    "model"
   ]
  },
  {
   "cell_type": "code",
   "execution_count": 7,
   "id": "fb4a83bd",
   "metadata": {},
   "outputs": [],
   "source": [
    "from src.train import train_mvae, TrainParams\n",
    "train_params = TrainParams(train_size=0.8, n_epochs=100, learning_rate=1e-4, batch_size=128)"
   ]
  },
  {
   "cell_type": "code",
   "execution_count": 8,
   "id": "b7dd6c5c",
   "metadata": {},
   "outputs": [
    {
     "name": "stdout",
     "output_type": "stream",
     "text": [
      "Train data size: 4000\n",
      "Test data size: 1000\n"
     ]
    },
    {
     "name": "stderr",
     "output_type": "stream",
     "text": [
      "  0%|                                                    | 0/32 [00:00<?, ?it/s]/media/gambino/students_workdir/anna/miniconda3/envs/ak/lib/python3.9/site-packages/threadpoolctl.py:762: RuntimeWarning: \n",
      "Found Intel OpenMP ('libiomp') and LLVM OpenMP ('libomp') loaded at\n",
      "the same time. Both libraries are known to be incompatible and this\n",
      "can cause random crashes or deadlocks on Linux when loaded in the\n",
      "same Python program.\n",
      "Using threadpoolctl may cause crashes or deadlocks. For more\n",
      "information and possible workarounds, please see\n",
      "    https://github.com/joblib/threadpoolctl/blob/master/multiple_openmp.md\n",
      "\n",
      "  warnings.warn(msg, RuntimeWarning)\n"
     ]
    },
    {
     "name": "stdout",
     "output_type": "stream",
     "text": [
      "\tInitialization is completed.\n",
      "\tCompleted 1 / 10 iteration(s).\n",
      "\tCompleted 2 / 10 iteration(s).\n",
      "\tCompleted 3 / 10 iteration(s).\n",
      "\tCompleted 4 / 10 iteration(s).\n",
      "\tCompleted 5 / 10 iteration(s).\n"
     ]
    },
    {
     "name": "stderr",
     "output_type": "stream",
     "text": [
      "\r",
      "  0%|                                                    | 0/32 [00:02<?, ?it/s]"
     ]
    },
    {
     "name": "stdout",
     "output_type": "stream",
     "text": [
      "\tCompleted 6 / 10 iteration(s).\n",
      "\tCompleted 7 / 10 iteration(s).\n",
      "\tCompleted 8 / 10 iteration(s).\n",
      "Reach convergence after 8 iteration(s).\n"
     ]
    },
    {
     "name": "stderr",
     "output_type": "stream",
     "text": [
      "\n"
     ]
    }
   ],
   "source": [
    "corr, output = train_mvae(model, mdata, train_params)"
   ]
  },
  {
   "cell_type": "code",
   "execution_count": 25,
   "id": "b87579d6",
   "metadata": {},
   "outputs": [
    {
     "name": "stdout",
     "output_type": "stream",
     "text": [
      "tensor([[1, 0, 0],\n",
      "        [0, 1, 0],\n",
      "        [0, 0, 1],\n",
      "        [1, 0, 0],\n",
      "        [0, 1, 0]])\n"
     ]
    },
    {
     "ename": "RuntimeError",
     "evalue": "Expected all tensors to be on the same device, but found at least two devices, cuda:0 and cpu! (when checking argument for argument index in method wrapper_scatter__value)",
     "output_type": "error",
     "traceback": [
      "\u001b[0;31m---------------------------------------------------------------------------\u001b[0m",
      "\u001b[0;31mRuntimeError\u001b[0m                              Traceback (most recent call last)",
      "Cell \u001b[0;32mIn[25], line 7\u001b[0m\n\u001b[1;32m      5\u001b[0m ids \u001b[38;5;241m=\u001b[39m batch_id\u001b[38;5;241m.\u001b[39mview(\u001b[38;5;241m-\u001b[39m\u001b[38;5;241m1\u001b[39m, \u001b[38;5;241m1\u001b[39m)\n\u001b[1;32m      6\u001b[0m Phi \u001b[38;5;241m=\u001b[39m torch\u001b[38;5;241m.\u001b[39mzeros(\u001b[38;5;241m5\u001b[39m, \u001b[38;5;241m3\u001b[39m, dtype\u001b[38;5;241m=\u001b[39mtorch\u001b[38;5;241m.\u001b[39mfloat, device\u001b[38;5;241m=\u001b[39m\u001b[38;5;124m\"\u001b[39m\u001b[38;5;124mcuda\u001b[39m\u001b[38;5;124m\"\u001b[39m)\n\u001b[0;32m----> 7\u001b[0m \u001b[43mPhi\u001b[49m\u001b[38;5;241;43m.\u001b[39;49m\u001b[43mscatter_\u001b[49m\u001b[43m(\u001b[49m\u001b[43mdim\u001b[49m\u001b[38;5;241;43m=\u001b[39;49m\u001b[38;5;241;43m1\u001b[39;49m\u001b[43m,\u001b[49m\u001b[43m \u001b[49m\u001b[43mindex\u001b[49m\u001b[38;5;241;43m=\u001b[39;49m\u001b[43mids\u001b[49m\u001b[43m,\u001b[49m\u001b[43m \u001b[49m\u001b[43mvalue\u001b[49m\u001b[38;5;241;43m=\u001b[39;49m\u001b[38;5;241;43m1.0\u001b[39;49m\u001b[43m)\u001b[49m\n\u001b[1;32m      8\u001b[0m \u001b[38;5;28mprint\u001b[39m(Phi)\n",
      "\u001b[0;31mRuntimeError\u001b[0m: Expected all tensors to be on the same device, but found at least two devices, cuda:0 and cpu! (when checking argument for argument index in method wrapper_scatter__value)"
     ]
    }
   ],
   "source": [
    "import torch.nn.functional as F\n",
    "print(F.one_hot(torch.arange(0, 5) % 3))\n",
    "\n",
    "batch_id = torch.arange(0,5) % 3\n",
    "ids = batch_id.view(-1, 1)\n",
    "Phi = torch.zeros(5, 3, dtype=torch.float)\n",
    "Phi.scatter_(dim=1, index=ids, value=1.0)\n",
    "print(Phi)"
   ]
  },
  {
   "cell_type": "code",
   "execution_count": 13,
   "id": "8da325f8",
   "metadata": {},
   "outputs": [
    {
     "data": {
      "text/plain": [
       "array([[-0.46017826, -0.3220197 , -2.0265217 , ...,  0.54139006,\n",
       "        -0.11672272, -0.51510614],\n",
       "       [ 0.4786482 ,  0.8647929 ,  0.7809398 , ..., -0.1188563 ,\n",
       "         0.15776072,  0.678091  ],\n",
       "       [ 0.4678871 ,  0.33735198,  0.104856  , ..., -0.3356654 ,\n",
       "         1.1674511 , -0.24234909],\n",
       "       ...,\n",
       "       [-0.41131175, -0.81204814,  0.07941402, ...,  0.8762194 ,\n",
       "         0.52539575, -0.77060735],\n",
       "       [-0.5926063 , -0.5671338 ,  0.3368605 , ..., -0.3473547 ,\n",
       "         0.38557297,  0.41594446],\n",
       "       [ 0.2661963 ,  0.69151855,  0.531208  , ..., -0.28990647,\n",
       "         0.31905442, -1.4018652 ]], dtype=float32)"
      ]
     },
     "execution_count": 13,
     "metadata": {},
     "output_type": "execute_result"
    }
   ],
   "source": [
    "poe"
   ]
  },
  {
   "cell_type": "code",
   "execution_count": 19,
   "id": "8791c729",
   "metadata": {},
   "outputs": [],
   "source": [
    "import umap\n",
    "reducer = umap.UMAP()\n",
    "embedding = reducer.fit_transform(corr)"
   ]
  },
  {
   "cell_type": "code",
   "execution_count": 20,
   "id": "783e2f42",
   "metadata": {},
   "outputs": [
    {
     "data": {
      "image/png": "[encoded data removed]",
      "text/plain": [
       "<Figure size 640x480 with 1 Axes>"
      ]
     },
     "metadata": {},
     "output_type": "display_data"
    }
   ],
   "source": [
    "import matplotlib.pyplot as plt\n",
    "plt.scatter(\n",
    "    embedding[:, 0],\n",
    "    embedding[:, 1])\n",
    "plt.gca().set_aspect('equal', 'datalim')"
   ]
  },
  {
   "cell_type": "code",
   "execution_count": null,
   "id": "5d5bb9cc",
   "metadata": {},
   "outputs": [],
   "source": []
  }
 ],
 "metadata": {
  "kernelspec": {
   "display_name": "ak",
   "language": "python",
   "name": "ak"
  },
  "language_info": {
   "codemirror_mode": {
    "name": "ipython",
    "version": 3
   },
   "file_extension": ".py",
   "mimetype": "text/x-python",
   "name": "python",
   "nbconvert_exporter": "python",
   "pygments_lexer": "ipython3",
   "version": "3.9.16"
  }
 },
 "nbformat": 4,
 "nbformat_minor": 5
}
