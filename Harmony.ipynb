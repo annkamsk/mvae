{
 "cells": [
  {
   "cell_type": "code",
   "execution_count": 1,
   "id": "0f7d46b7",
   "metadata": {},
   "outputs": [],
   "source": [
    "import os\n",
    "os.environ[\"CUDA_VISIBLE_DEVICES\"]=\"1\"\n",
    "os.environ[\"CUDA_LAUNCH_BLOCKING\"]=\"1\""
   ]
  },
  {
   "cell_type": "code",
   "execution_count": 2,
   "id": "c94492a1",
   "metadata": {},
   "outputs": [],
   "source": [
    "import numpy as np\n",
    "import torch\n",
    "import scanpy as sc\n",
    "import muon as mu\n",
    "import anndata\n",
    "import mudata\n",
    "import pandas as pd"
   ]
  },
  {
   "cell_type": "code",
   "execution_count": 12,
   "id": "9caef4fa",
   "metadata": {},
   "outputs": [
    {
     "name": "stdout",
     "output_type": "stream",
     "text": [
      "The autoreload extension is already loaded. To reload it, use:\n",
      "  %reload_ext autoreload\n"
     ]
    }
   ],
   "source": [
    "%load_ext autoreload\n",
    "%autoreload 2"
   ]
  },
  {
   "cell_type": "code",
   "execution_count": 4,
   "id": "bae9603a",
   "metadata": {},
   "outputs": [
    {
     "data": {
      "text/html": [
       "<pre>MuData object with n_obs × n_vars = 42475 × 31460\n",
       "  obs:\t&#x27;sample&#x27;, &#x27;tissue&#x27;, &#x27;patient&#x27;, &#x27;ann&#x27;, &#x27;imagerow&#x27;, &#x27;imagecol&#x27;\n",
       "  2 modalities\n",
       "    rna:\t42475 x 18950\n",
       "      obs:\t&#x27;in_tissue&#x27;, &#x27;array_row&#x27;, &#x27;array_col&#x27;, &#x27;n_genes_by_counts&#x27;, &#x27;log1p_n_genes_by_counts&#x27;, &#x27;total_counts&#x27;, &#x27;log1p_total_counts&#x27;, &#x27;pct_counts_in_top_20_genes&#x27;, &#x27;total_counts_mt&#x27;, &#x27;log1p_total_counts_mt&#x27;, &#x27;pct_counts_mt&#x27;, &#x27;total_counts_ribo&#x27;, &#x27;log1p_total_counts_ribo&#x27;, &#x27;pct_counts_ribo&#x27;, &#x27;total_counts_hb&#x27;, &#x27;log1p_total_counts_hb&#x27;, &#x27;pct_counts_hb&#x27;, &#x27;n_counts&#x27;, &#x27;n_genes&#x27;, &#x27;size_factors&#x27;, &#x27;sample&#x27;, &#x27;type&#x27;, &#x27;patient&#x27;, &#x27;ann&#x27;, &#x27;tissue&#x27;, &#x27;imagerow&#x27;, &#x27;imagecol&#x27;\n",
       "      obsm:\t&#x27;spatial&#x27;\n",
       "      layers:\t&#x27;counts&#x27;, &#x27;scran_normalization&#x27;, &#x27;spotclean&#x27;\n",
       "    msi:\t42475 x 12510\n",
       "      obs:\t&#x27;ST_barcode&#x27;, &#x27;sample&#x27;, &#x27;tissue&#x27;, &#x27;patient&#x27;, &#x27;ann&#x27;, &#x27;imagerow&#x27;, &#x27;imagecol&#x27;\n",
       "      obsm:\t&#x27;spatial&#x27;</pre>"
      ],
      "text/plain": [
       "MuData object with n_obs × n_vars = 42475 × 31460\n",
       "  obs:\t'sample', 'tissue', 'patient', 'ann', 'imagerow', 'imagecol'\n",
       "  2 modalities\n",
       "    rna:\t42475 x 18950\n",
       "      obs:\t'in_tissue', 'array_row', 'array_col', 'n_genes_by_counts', 'log1p_n_genes_by_counts', 'total_counts', 'log1p_total_counts', 'pct_counts_in_top_20_genes', 'total_counts_mt', 'log1p_total_counts_mt', 'pct_counts_mt', 'total_counts_ribo', 'log1p_total_counts_ribo', 'pct_counts_ribo', 'total_counts_hb', 'log1p_total_counts_hb', 'pct_counts_hb', 'n_counts', 'n_genes', 'size_factors', 'sample', 'type', 'patient', 'ann', 'tissue', 'imagerow', 'imagecol'\n",
       "      obsm:\t'spatial'\n",
       "      layers:\t'counts', 'scran_normalization', 'spotclean'\n",
       "    msi:\t42475 x 12510\n",
       "      obs:\t'ST_barcode', 'sample', 'tissue', 'patient', 'ann', 'imagerow', 'imagecol'\n",
       "      obsm:\t'spatial'"
      ]
     },
     "execution_count": 4,
     "metadata": {},
     "output_type": "execute_result"
    }
   ],
   "source": [
    "DATA_DIR = \"/media/yob/nacho_stuff/prostate_cancer/Integration/MVAE-PoE/OtF-prostate/data/\"\n",
    "mdata = mu.read(DATA_DIR + \"mdata_preprocessed_final_filtered.h5mu\")\n",
    "mdata"
   ]
  },
  {
   "cell_type": "code",
   "execution_count": 5,
   "id": "679df1c8",
   "metadata": {},
   "outputs": [],
   "source": [
    "from src.model import MVAE, MVAEParams\n",
    "\n",
    "mvae_params = MVAEParams(beta=0.01, n_layers=2, z_dim=100, n_hidden=300)"
   ]
  },
  {
   "cell_type": "code",
   "execution_count": 6,
   "id": "a0b6009e",
   "metadata": {},
   "outputs": [
    {
     "name": "stdout",
     "output_type": "stream",
     "text": [
      "N batches for mod1:  16\n",
      "N batches for mod2:  16\n",
      "(42475, 18950)\n",
      "(42475, 12510)\n"
     ]
    },
    {
     "data": {
      "text/plain": [
       "MVAE(\n",
       "  (rna): ModalityLayers(\n",
       "    (shared_sampling): SamplingLayers(\n",
       "      (mean): Sequential(\n",
       "        (0): Linear(in_features=300, out_features=100, bias=True)\n",
       "        (1): Dropout(p=0.3, inplace=False)\n",
       "      )\n",
       "      (logvar): Sequential(\n",
       "        (0): Linear(in_features=300, out_features=100, bias=True)\n",
       "        (1): Dropout(p=0.3, inplace=False)\n",
       "      )\n",
       "    )\n",
       "    (batch_sampling): SamplingLayers(\n",
       "      (mean): Sequential(\n",
       "        (0): Linear(in_features=300, out_features=1600, bias=True)\n",
       "        (1): Dropout(p=0.3, inplace=False)\n",
       "      )\n",
       "      (logvar): Sequential(\n",
       "        (0): Linear(in_features=300, out_features=1600, bias=True)\n",
       "        (1): Dropout(p=0.3, inplace=False)\n",
       "      )\n",
       "    )\n",
       "    (private_sampling): SamplingLayers(\n",
       "      (mean): Sequential(\n",
       "        (0): Linear(in_features=300, out_features=100, bias=True)\n",
       "        (1): Dropout(p=0.3, inplace=False)\n",
       "      )\n",
       "      (logvar): Sequential(\n",
       "        (0): Linear(in_features=300, out_features=100, bias=True)\n",
       "        (1): Dropout(p=0.3, inplace=False)\n",
       "      )\n",
       "    )\n",
       "    (encoder): FullyConnectedLayers(\n",
       "      (layers): Sequential(\n",
       "        (0): Sequential(\n",
       "          (0): Linear(in_features=18950, out_features=300, bias=True)\n",
       "          (1): BatchNorm1d(300, eps=0.001, momentum=0.01, affine=True, track_running_stats=True)\n",
       "          (2): ReLU()\n",
       "          (3): Dropout(p=0.1, inplace=False)\n",
       "        )\n",
       "        (1): Sequential(\n",
       "          (0): Linear(in_features=300, out_features=300, bias=True)\n",
       "          (1): BatchNorm1d(300, eps=0.001, momentum=0.01, affine=True, track_running_stats=True)\n",
       "          (2): ReLU()\n",
       "          (3): Dropout(p=0.1, inplace=False)\n",
       "        )\n",
       "      )\n",
       "    )\n",
       "    (decoder): FullyConnectedLayers(\n",
       "      (layers): Sequential(\n",
       "        (0): Sequential(\n",
       "          (0): Linear(in_features=100, out_features=300, bias=True)\n",
       "          (1): BatchNorm1d(300, eps=0.001, momentum=0.01, affine=True, track_running_stats=True)\n",
       "          (2): ReLU()\n",
       "          (3): Dropout(p=0.1, inplace=False)\n",
       "        )\n",
       "        (1): Sequential(\n",
       "          (0): Linear(in_features=300, out_features=300, bias=True)\n",
       "          (1): BatchNorm1d(300, eps=0.001, momentum=0.01, affine=True, track_running_stats=True)\n",
       "          (2): ReLU()\n",
       "          (3): Dropout(p=0.1, inplace=False)\n",
       "        )\n",
       "      )\n",
       "    )\n",
       "    (final): Sequential(\n",
       "      (0): Linear(in_features=300, out_features=18950, bias=True)\n",
       "      (1): ReLU()\n",
       "    )\n",
       "  )\n",
       "  (msi): ModalityLayers(\n",
       "    (shared_sampling): SamplingLayers(\n",
       "      (mean): Sequential(\n",
       "        (0): Linear(in_features=300, out_features=100, bias=True)\n",
       "        (1): Dropout(p=0.3, inplace=False)\n",
       "      )\n",
       "      (logvar): Sequential(\n",
       "        (0): Linear(in_features=300, out_features=100, bias=True)\n",
       "        (1): Dropout(p=0.3, inplace=False)\n",
       "      )\n",
       "    )\n",
       "    (batch_sampling): SamplingLayers(\n",
       "      (mean): Sequential(\n",
       "        (0): Linear(in_features=300, out_features=1600, bias=True)\n",
       "        (1): Dropout(p=0.3, inplace=False)\n",
       "      )\n",
       "      (logvar): Sequential(\n",
       "        (0): Linear(in_features=300, out_features=1600, bias=True)\n",
       "        (1): Dropout(p=0.3, inplace=False)\n",
       "      )\n",
       "    )\n",
       "    (private_sampling): SamplingLayers(\n",
       "      (mean): Sequential(\n",
       "        (0): Linear(in_features=300, out_features=100, bias=True)\n",
       "        (1): Dropout(p=0.3, inplace=False)\n",
       "      )\n",
       "      (logvar): Sequential(\n",
       "        (0): Linear(in_features=300, out_features=100, bias=True)\n",
       "        (1): Dropout(p=0.3, inplace=False)\n",
       "      )\n",
       "    )\n",
       "    (encoder): FullyConnectedLayers(\n",
       "      (layers): Sequential(\n",
       "        (0): Sequential(\n",
       "          (0): Linear(in_features=12510, out_features=300, bias=True)\n",
       "          (1): BatchNorm1d(300, eps=0.001, momentum=0.01, affine=True, track_running_stats=True)\n",
       "          (2): ReLU()\n",
       "          (3): Dropout(p=0.1, inplace=False)\n",
       "        )\n",
       "        (1): Sequential(\n",
       "          (0): Linear(in_features=300, out_features=300, bias=True)\n",
       "          (1): BatchNorm1d(300, eps=0.001, momentum=0.01, affine=True, track_running_stats=True)\n",
       "          (2): ReLU()\n",
       "          (3): Dropout(p=0.1, inplace=False)\n",
       "        )\n",
       "      )\n",
       "    )\n",
       "    (decoder): FullyConnectedLayers(\n",
       "      (layers): Sequential(\n",
       "        (0): Sequential(\n",
       "          (0): Linear(in_features=100, out_features=300, bias=True)\n",
       "          (1): BatchNorm1d(300, eps=0.001, momentum=0.01, affine=True, track_running_stats=True)\n",
       "          (2): ReLU()\n",
       "          (3): Dropout(p=0.1, inplace=False)\n",
       "        )\n",
       "        (1): Sequential(\n",
       "          (0): Linear(in_features=300, out_features=300, bias=True)\n",
       "          (1): BatchNorm1d(300, eps=0.001, momentum=0.01, affine=True, track_running_stats=True)\n",
       "          (2): ReLU()\n",
       "          (3): Dropout(p=0.1, inplace=False)\n",
       "        )\n",
       "      )\n",
       "    )\n",
       "    (final): Sequential(\n",
       "      (0): Linear(in_features=300, out_features=12510, bias=True)\n",
       "      (1): ReLU()\n",
       "    )\n",
       "  )\n",
       "  (poe): PoE()\n",
       ")"
      ]
     },
     "execution_count": 6,
     "metadata": {},
     "output_type": "execute_result"
    }
   ],
   "source": [
    "torch.set_num_threads(16)\n",
    "model = MVAE(mdata, mvae_params, use_cuda=True)\n",
    "model"
   ]
  },
  {
   "cell_type": "code",
   "execution_count": 7,
   "id": "fb4a83bd",
   "metadata": {},
   "outputs": [],
   "source": [
    "from src.train import train_mvae, TrainParams\n",
    "train_params = TrainParams(train_size=0.8, n_epochs=100, learning_rate=1e-4, batch_size=128)"
   ]
  },
  {
   "cell_type": "code",
   "execution_count": 15,
   "id": "b7dd6c5c",
   "metadata": {},
   "outputs": [
    {
     "name": "stdout",
     "output_type": "stream",
     "text": [
      "Train data size: 33980\n",
      "Test data size: 8495\n"
     ]
    },
    {
     "name": "stderr",
     "output_type": "stream",
     "text": [
      "  0%|                                                   | 0/266 [00:00<?, ?it/s]/media/gambino/students_workdir/anna/miniconda3/envs/ak/lib/python3.9/site-packages/torch/autograd/__init__.py:173: UserWarning: Error detected in MmBackward0. Traceback of forward call that caused the error:\n",
      "  File \"/media/gambino/students_workdir/anna/miniconda3/envs/ak/lib/python3.9/runpy.py\", line 197, in _run_module_as_main\n",
      "    return _run_code(code, main_globals, None,\n",
      "  File \"/media/gambino/students_workdir/anna/miniconda3/envs/ak/lib/python3.9/runpy.py\", line 87, in _run_code\n",
      "    exec(code, run_globals)\n",
      "  File \"/media/gambino/students_workdir/anna/miniconda3/envs/ak/lib/python3.9/site-packages/ipykernel_launcher.py\", line 17, in <module>\n",
      "    app.launch_new_instance()\n",
      "  File \"/media/gambino/students_workdir/anna/miniconda3/envs/ak/lib/python3.9/site-packages/traitlets/config/application.py\", line 1043, in launch_instance\n",
      "    app.start()\n",
      "  File \"/media/gambino/students_workdir/anna/miniconda3/envs/ak/lib/python3.9/site-packages/ipykernel/kernelapp.py\", line 725, in start\n",
      "    self.io_loop.start()\n",
      "  File \"/media/gambino/students_workdir/anna/miniconda3/envs/ak/lib/python3.9/site-packages/tornado/platform/asyncio.py\", line 215, in start\n",
      "    self.asyncio_loop.run_forever()\n",
      "  File \"/media/gambino/students_workdir/anna/miniconda3/envs/ak/lib/python3.9/asyncio/base_events.py\", line 601, in run_forever\n",
      "    self._run_once()\n",
      "  File \"/media/gambino/students_workdir/anna/miniconda3/envs/ak/lib/python3.9/asyncio/base_events.py\", line 1905, in _run_once\n",
      "    handle._run()\n",
      "  File \"/media/gambino/students_workdir/anna/miniconda3/envs/ak/lib/python3.9/asyncio/events.py\", line 80, in _run\n",
      "    self._context.run(self._callback, *self._args)\n",
      "  File \"/media/gambino/students_workdir/anna/miniconda3/envs/ak/lib/python3.9/site-packages/ipykernel/kernelbase.py\", line 513, in dispatch_queue\n",
      "    await self.process_one()\n",
      "  File \"/media/gambino/students_workdir/anna/miniconda3/envs/ak/lib/python3.9/site-packages/ipykernel/kernelbase.py\", line 502, in process_one\n",
      "    await dispatch(*args)\n",
      "  File \"/media/gambino/students_workdir/anna/miniconda3/envs/ak/lib/python3.9/site-packages/ipykernel/kernelbase.py\", line 409, in dispatch_shell\n",
      "    await result\n",
      "  File \"/media/gambino/students_workdir/anna/miniconda3/envs/ak/lib/python3.9/site-packages/ipykernel/kernelbase.py\", line 729, in execute_request\n",
      "    reply_content = await reply_content\n",
      "  File \"/media/gambino/students_workdir/anna/miniconda3/envs/ak/lib/python3.9/site-packages/ipykernel/ipkernel.py\", line 422, in do_execute\n",
      "    res = shell.run_cell(\n",
      "  File \"/media/gambino/students_workdir/anna/miniconda3/envs/ak/lib/python3.9/site-packages/ipykernel/zmqshell.py\", line 540, in run_cell\n",
      "    return super().run_cell(*args, **kwargs)\n",
      "  File \"/media/gambino/students_workdir/anna/miniconda3/envs/ak/lib/python3.9/site-packages/IPython/core/interactiveshell.py\", line 2961, in run_cell\n",
      "    result = self._run_cell(\n",
      "  File \"/media/gambino/students_workdir/anna/miniconda3/envs/ak/lib/python3.9/site-packages/IPython/core/interactiveshell.py\", line 3016, in _run_cell\n",
      "    result = runner(coro)\n",
      "  File \"/media/gambino/students_workdir/anna/miniconda3/envs/ak/lib/python3.9/site-packages/IPython/core/async_helpers.py\", line 129, in _pseudo_sync_runner\n",
      "    coro.send(None)\n",
      "  File \"/media/gambino/students_workdir/anna/miniconda3/envs/ak/lib/python3.9/site-packages/IPython/core/interactiveshell.py\", line 3221, in run_cell_async\n",
      "    has_raised = await self.run_ast_nodes(code_ast.body, cell_name,\n",
      "  File \"/media/gambino/students_workdir/anna/miniconda3/envs/ak/lib/python3.9/site-packages/IPython/core/interactiveshell.py\", line 3400, in run_ast_nodes\n",
      "    if await self.run_code(code, result, async_=asy):\n",
      "  File \"/media/gambino/students_workdir/anna/miniconda3/envs/ak/lib/python3.9/site-packages/IPython/core/interactiveshell.py\", line 3460, in run_code\n",
      "    exec(code_obj, self.user_global_ns, self.user_ns)\n",
      "  File \"/tmp/ipykernel_2665930/1050878876.py\", line 2, in <module>\n",
      "    hist = train_mvae(model, mdata, train_params)\n",
      "  File \"/media/gambino/students_workdir/anna/OtF-prostate/src/train.py\", line 139, in train_mvae\n",
      "    epoch_history = train(\n",
      "  File \"/media/gambino/students_workdir/anna/OtF-prostate/src/train.py\", line 207, in train\n",
      "    loss_calculator.calculate_batch_integration_loss(\n",
      "  File \"/media/gambino/students_workdir/anna/OtF-prostate/src/loss.py\", line 307, in calculate_batch_integration_loss\n",
      "    poe_corrected = harmonize(poe, batch_id, device_type=device)\n",
      "  File \"/media/gambino/students_workdir/anna/OtF-prostate/src/harmony.py\", line 127, in harmonize\n",
      "    objective = clustering(\n",
      "  File \"/media/gambino/students_workdir/anna/OtF-prostate/src/harmony.py\", line 242, in clustering\n",
      "    Y = torch.matmul(R.t(), Z_norm)\n",
      " (Triggered internally at  /opt/conda/conda-bld/pytorch_1646756402876/work/torch/csrc/autograd/python_anomaly_mode.cpp:104.)\n",
      "  Variable._execution_engine.run_backward(  # Calls into the C++ engine to run the backward pass\n",
      "  0%|                                                   | 0/266 [00:12<?, ?it/s]\n"
     ]
    },
    {
     "ename": "RuntimeError",
     "evalue": "one of the variables needed for gradient computation has been modified by an inplace operation: [torch.cuda.FloatTensor [4, 128]], which is output 0 of AsStridedBackward0, is at version 1040; expected version 1020 instead. Hint: the backtrace further above shows the operation that failed to compute its gradient. The variable in question was changed in there or anywhere later. Good luck!",
     "output_type": "error",
     "traceback": [
      "\u001b[0;31m---------------------------------------------------------------------------\u001b[0m",
      "\u001b[0;31mRuntimeError\u001b[0m                              Traceback (most recent call last)",
      "Cell \u001b[0;32mIn[15], line 2\u001b[0m\n\u001b[1;32m      1\u001b[0m torch\u001b[38;5;241m.\u001b[39mautograd\u001b[38;5;241m.\u001b[39mset_detect_anomaly(\u001b[38;5;28;01mTrue\u001b[39;00m)\n\u001b[0;32m----> 2\u001b[0m hist \u001b[38;5;241m=\u001b[39m \u001b[43mtrain_mvae\u001b[49m\u001b[43m(\u001b[49m\u001b[43mmodel\u001b[49m\u001b[43m,\u001b[49m\u001b[43m \u001b[49m\u001b[43mmdata\u001b[49m\u001b[43m,\u001b[49m\u001b[43m \u001b[49m\u001b[43mtrain_params\u001b[49m\u001b[43m)\u001b[49m\n",
      "File \u001b[0;32m/media/gambino/students_workdir/anna/OtF-prostate/src/train.py:139\u001b[0m, in \u001b[0;36mtrain_mvae\u001b[0;34m(model, mdata, params)\u001b[0m\n\u001b[1;32m    132\u001b[0m test_loader, test_loader_pairs \u001b[38;5;241m=\u001b[39m mudata_to_dataloader(\n\u001b[1;32m    133\u001b[0m     test_mdata,\n\u001b[1;32m    134\u001b[0m     batch_size\u001b[38;5;241m=\u001b[39mparams\u001b[38;5;241m.\u001b[39mbatch_size,\n\u001b[1;32m    135\u001b[0m     shuffle\u001b[38;5;241m=\u001b[39mparams\u001b[38;5;241m.\u001b[39mshuffle,\n\u001b[1;32m    136\u001b[0m )\n\u001b[1;32m    137\u001b[0m model\u001b[38;5;241m.\u001b[39mto(model\u001b[38;5;241m.\u001b[39mdevice)\n\u001b[0;32m--> 139\u001b[0m epoch_history \u001b[38;5;241m=\u001b[39m \u001b[43mtrain\u001b[49m\u001b[43m(\u001b[49m\n\u001b[1;32m    140\u001b[0m \u001b[43m    \u001b[49m\u001b[43mmodel\u001b[49m\u001b[43m,\u001b[49m\n\u001b[1;32m    141\u001b[0m \u001b[43m    \u001b[49m\u001b[43mtrain_loader\u001b[49m\u001b[43m,\u001b[49m\n\u001b[1;32m    142\u001b[0m \u001b[43m    \u001b[49m\u001b[43mtrain_loader_pairs\u001b[49m\u001b[43m,\u001b[49m\n\u001b[1;32m    143\u001b[0m \u001b[43m    \u001b[49m\u001b[43mtest_loader\u001b[49m\u001b[43m,\u001b[49m\n\u001b[1;32m    144\u001b[0m \u001b[43m    \u001b[49m\u001b[43mtest_loader_pairs\u001b[49m\u001b[43m,\u001b[49m\n\u001b[1;32m    145\u001b[0m \u001b[43m    \u001b[49m\u001b[43mparams\u001b[49m\u001b[43m,\u001b[49m\n\u001b[1;32m    146\u001b[0m \u001b[43m\u001b[49m\u001b[43m)\u001b[49m\n\u001b[1;32m    147\u001b[0m torch\u001b[38;5;241m.\u001b[39msave(\n\u001b[1;32m    148\u001b[0m     model\u001b[38;5;241m.\u001b[39mstate_dict(),\n\u001b[1;32m    149\u001b[0m     \u001b[38;5;124mf\u001b[39m\u001b[38;5;124m\"\u001b[39m\u001b[38;5;124mmvae_params_\u001b[39m\u001b[38;5;132;01m{\u001b[39;00mdatetime\u001b[38;5;241m.\u001b[39mdatetime\u001b[38;5;241m.\u001b[39mnow()\u001b[38;5;241m.\u001b[39mstrftime(\u001b[38;5;124m'\u001b[39m\u001b[38;5;124m%\u001b[39m\u001b[38;5;124mY\u001b[39m\u001b[38;5;124m%\u001b[39m\u001b[38;5;124mm\u001b[39m\u001b[38;5;132;01m%d\u001b[39;00m\u001b[38;5;124m-\u001b[39m\u001b[38;5;124m%\u001b[39m\u001b[38;5;124mH\u001b[39m\u001b[38;5;124m%\u001b[39m\u001b[38;5;124mM\u001b[39m\u001b[38;5;124m%\u001b[39m\u001b[38;5;124mS\u001b[39m\u001b[38;5;124m'\u001b[39m)\u001b[38;5;132;01m}\u001b[39;00m\u001b[38;5;124m.pt\u001b[39m\u001b[38;5;124m\"\u001b[39m,\n\u001b[1;32m    150\u001b[0m )\n\u001b[1;32m    151\u001b[0m \u001b[38;5;28;01mreturn\u001b[39;00m epoch_history\n",
      "File \u001b[0;32m/media/gambino/students_workdir/anna/OtF-prostate/src/train.py:215\u001b[0m, in \u001b[0;36mtrain\u001b[0;34m(model, train_loader, train_loader_pairs, test_loader, test_loader_pairs, params)\u001b[0m\n\u001b[1;32m    212\u001b[0m loss_value \u001b[38;5;241m=\u001b[39m loss\u001b[38;5;241m.\u001b[39mitem()\n\u001b[1;32m    213\u001b[0m epoch_loss \u001b[38;5;241m+\u001b[39m\u001b[38;5;241m=\u001b[39m loss_value\n\u001b[0;32m--> 215\u001b[0m \u001b[43mloss\u001b[49m\u001b[38;5;241;43m.\u001b[39;49m\u001b[43mbackward\u001b[49m\u001b[43m(\u001b[49m\u001b[43m)\u001b[49m\n\u001b[1;32m    216\u001b[0m optimizer\u001b[38;5;241m.\u001b[39mstep()\n\u001b[1;32m    218\u001b[0m log_loss(\n\u001b[1;32m    219\u001b[0m     writer,\n\u001b[1;32m    220\u001b[0m     {\u001b[38;5;124m\"\u001b[39m\u001b[38;5;124mtotal_loss\u001b[39m\u001b[38;5;124m\"\u001b[39m: loss_value, \u001b[38;5;241m*\u001b[39m\u001b[38;5;241m*\u001b[39mloss_calculator\u001b[38;5;241m.\u001b[39mvalues},\n\u001b[1;32m    221\u001b[0m     it,\n\u001b[1;32m    222\u001b[0m     train\u001b[38;5;241m=\u001b[39m\u001b[38;5;28;01mTrue\u001b[39;00m,\n\u001b[1;32m    223\u001b[0m )\n",
      "File \u001b[0;32m/media/gambino/students_workdir/anna/miniconda3/envs/ak/lib/python3.9/site-packages/torch/_tensor.py:363\u001b[0m, in \u001b[0;36mTensor.backward\u001b[0;34m(self, gradient, retain_graph, create_graph, inputs)\u001b[0m\n\u001b[1;32m    354\u001b[0m \u001b[38;5;28;01mif\u001b[39;00m has_torch_function_unary(\u001b[38;5;28mself\u001b[39m):\n\u001b[1;32m    355\u001b[0m     \u001b[38;5;28;01mreturn\u001b[39;00m handle_torch_function(\n\u001b[1;32m    356\u001b[0m         Tensor\u001b[38;5;241m.\u001b[39mbackward,\n\u001b[1;32m    357\u001b[0m         (\u001b[38;5;28mself\u001b[39m,),\n\u001b[0;32m   (...)\u001b[0m\n\u001b[1;32m    361\u001b[0m         create_graph\u001b[38;5;241m=\u001b[39mcreate_graph,\n\u001b[1;32m    362\u001b[0m         inputs\u001b[38;5;241m=\u001b[39minputs)\n\u001b[0;32m--> 363\u001b[0m \u001b[43mtorch\u001b[49m\u001b[38;5;241;43m.\u001b[39;49m\u001b[43mautograd\u001b[49m\u001b[38;5;241;43m.\u001b[39;49m\u001b[43mbackward\u001b[49m\u001b[43m(\u001b[49m\u001b[38;5;28;43mself\u001b[39;49m\u001b[43m,\u001b[49m\u001b[43m \u001b[49m\u001b[43mgradient\u001b[49m\u001b[43m,\u001b[49m\u001b[43m \u001b[49m\u001b[43mretain_graph\u001b[49m\u001b[43m,\u001b[49m\u001b[43m \u001b[49m\u001b[43mcreate_graph\u001b[49m\u001b[43m,\u001b[49m\u001b[43m \u001b[49m\u001b[43minputs\u001b[49m\u001b[38;5;241;43m=\u001b[39;49m\u001b[43minputs\u001b[49m\u001b[43m)\u001b[49m\n",
      "File \u001b[0;32m/media/gambino/students_workdir/anna/miniconda3/envs/ak/lib/python3.9/site-packages/torch/autograd/__init__.py:173\u001b[0m, in \u001b[0;36mbackward\u001b[0;34m(tensors, grad_tensors, retain_graph, create_graph, grad_variables, inputs)\u001b[0m\n\u001b[1;32m    168\u001b[0m     retain_graph \u001b[38;5;241m=\u001b[39m create_graph\n\u001b[1;32m    170\u001b[0m \u001b[38;5;66;03m# The reason we repeat same the comment below is that\u001b[39;00m\n\u001b[1;32m    171\u001b[0m \u001b[38;5;66;03m# some Python versions print out the first line of a multi-line function\u001b[39;00m\n\u001b[1;32m    172\u001b[0m \u001b[38;5;66;03m# calls in the traceback and some print out the last line\u001b[39;00m\n\u001b[0;32m--> 173\u001b[0m \u001b[43mVariable\u001b[49m\u001b[38;5;241;43m.\u001b[39;49m\u001b[43m_execution_engine\u001b[49m\u001b[38;5;241;43m.\u001b[39;49m\u001b[43mrun_backward\u001b[49m\u001b[43m(\u001b[49m\u001b[43m  \u001b[49m\u001b[38;5;66;43;03m# Calls into the C++ engine to run the backward pass\u001b[39;49;00m\n\u001b[1;32m    174\u001b[0m \u001b[43m    \u001b[49m\u001b[43mtensors\u001b[49m\u001b[43m,\u001b[49m\u001b[43m \u001b[49m\u001b[43mgrad_tensors_\u001b[49m\u001b[43m,\u001b[49m\u001b[43m \u001b[49m\u001b[43mretain_graph\u001b[49m\u001b[43m,\u001b[49m\u001b[43m \u001b[49m\u001b[43mcreate_graph\u001b[49m\u001b[43m,\u001b[49m\u001b[43m \u001b[49m\u001b[43minputs\u001b[49m\u001b[43m,\u001b[49m\n\u001b[1;32m    175\u001b[0m \u001b[43m    \u001b[49m\u001b[43mallow_unreachable\u001b[49m\u001b[38;5;241;43m=\u001b[39;49m\u001b[38;5;28;43;01mTrue\u001b[39;49;00m\u001b[43m,\u001b[49m\u001b[43m \u001b[49m\u001b[43maccumulate_grad\u001b[49m\u001b[38;5;241;43m=\u001b[39;49m\u001b[38;5;28;43;01mTrue\u001b[39;49;00m\u001b[43m)\u001b[49m\n",
      "\u001b[0;31mRuntimeError\u001b[0m: one of the variables needed for gradient computation has been modified by an inplace operation: [torch.cuda.FloatTensor [4, 128]], which is output 0 of AsStridedBackward0, is at version 1040; expected version 1020 instead. Hint: the backtrace further above shows the operation that failed to compute its gradient. The variable in question was changed in there or anywhere later. Good luck!"
     ]
    }
   ],
   "source": [
    "torch.autograd.set_detect_anomaly(True)\n",
    "hist = train_mvae(model, mdata, train_params)"
   ]
  },
  {
   "cell_type": "code",
   "execution_count": 61,
   "id": "d496c1ef",
   "metadata": {},
   "outputs": [
    {
     "data": {
      "text/plain": [
       "(torch.Size([90]), torch.Size([90, 1]))"
      ]
     },
     "execution_count": 61,
     "metadata": {},
     "output_type": "execute_result"
    }
   ],
   "source": [
    "unique_batches = torch.tensor([[ 0],\n",
    "        [ 1],\n",
    "        [ 2],\n",
    "        [ 3],\n",
    "        [ 4],\n",
    "        [ 5],\n",
    "        [ 6],\n",
    "        [ 7],\n",
    "        [ 8],\n",
    "        [ 9],\n",
    "        [10],\n",
    "        [11],\n",
    "        [12],\n",
    "        [13],\n",
    "        [14],\n",
    "        [15]])\n",
    "\n",
    "neighbor_batches = torch.tensor([[ 2],\n",
    "        [ 7],\n",
    "        [15],\n",
    "        [ 0],\n",
    "        [ 6],\n",
    "        [10],\n",
    "        [ 2],\n",
    "        [ 4],\n",
    "        [ 0],\n",
    "        [ 6],\n",
    "        [ 0],\n",
    "        [ 9],\n",
    "        [ 5],\n",
    "        [14],\n",
    "        [ 3],\n",
    "        [ 1],\n",
    "        [15],\n",
    "        [ 8],\n",
    "        [ 5],\n",
    "        [ 5],\n",
    "        [ 1],\n",
    "        [ 4],\n",
    "        [ 0],\n",
    "        [ 7],\n",
    "        [ 8],\n",
    "        [15],\n",
    "        [ 7],\n",
    "        [15],\n",
    "        [11],\n",
    "        [14],\n",
    "        [ 5],\n",
    "        [14],\n",
    "        [ 6],\n",
    "        [11],\n",
    "        [ 8],\n",
    "        [ 9],\n",
    "        [ 4],\n",
    "        [12],\n",
    "        [ 9],\n",
    "        [ 1],\n",
    "        [14],\n",
    "        [11],\n",
    "        [ 3],\n",
    "        [14],\n",
    "        [13],\n",
    "        [ 1],\n",
    "        [ 1],\n",
    "        [12],\n",
    "        [ 5],\n",
    "        [ 9],\n",
    "        [11],\n",
    "        [ 2],\n",
    "        [ 0],\n",
    "        [10],\n",
    "        [12],\n",
    "        [ 8],\n",
    "        [ 9],\n",
    "        [11],\n",
    "        [14],\n",
    "        [12],\n",
    "        [ 8],\n",
    "        [ 4],\n",
    "        [ 9],\n",
    "        [11],\n",
    "        [ 4],\n",
    "        [12],\n",
    "        [14],\n",
    "        [ 7],\n",
    "        [ 3],\n",
    "        [10],\n",
    "        [ 3],\n",
    "        [13],\n",
    "        [ 6],\n",
    "        [ 7],\n",
    "        [14],\n",
    "        [11],\n",
    "        [ 6],\n",
    "        [ 5],\n",
    "        [ 9],\n",
    "        [ 4],\n",
    "        [12],\n",
    "        [13],\n",
    "        [ 8],\n",
    "        [10],\n",
    "        [ 3],\n",
    "        [10],\n",
    "        [ 4],\n",
    "        [ 1],\n",
    "        [ 4],\n",
    "        [ 6]]).long()\n",
    "\n",
    "P = torch.tensor([0.1278, 0.1076, 0.0999, 0.0691, 0.0485, 0.0427, 0.0419, 0.0328, 0.0328,\n",
    "        0.0321, 0.0317, 0.0255, 0.0226, 0.0191, 0.0175, 0.0159, 0.0157, 0.0125,\n",
    "        0.0121, 0.0116, 0.0114, 0.0100, 0.0094, 0.0089, 0.0072, 0.0068, 0.0067,\n",
    "        0.0058, 0.0053, 0.0051, 0.0050, 0.0047, 0.0044, 0.0043, 0.0042, 0.0038,\n",
    "        0.0036, 0.0034, 0.0032, 0.0032, 0.0031, 0.0027, 0.0025, 0.0024, 0.0023,\n",
    "        0.0022, 0.0022, 0.0021, 0.0021, 0.0020, 0.0020, 0.0018, 0.0018, 0.0017,\n",
    "        0.0016, 0.0015, 0.0015, 0.0014, 0.0014, 0.0014, 0.0014, 0.0013, 0.0012,\n",
    "        0.0012, 0.0011, 0.0011, 0.0010, 0.0010, 0.0010, 0.0010, 0.0009, 0.0009,\n",
    "        0.0008, 0.0008, 0.0008, 0.0008, 0.0008, 0.0008, 0.0008, 0.0007, 0.0007,\n",
    "        0.0007, 0.0007, 0.0006, 0.0005, 0.0005, 0.0004, 0.0004, 0.0004, 0.0004])\n",
    "P.shape, neighbor_batches.shape"
   ]
  },
  {
   "cell_type": "code",
   "execution_count": 66,
   "id": "3fd56dcc",
   "metadata": {},
   "outputs": [
    {
     "data": {
      "text/plain": [
       "tensor([[0.],\n",
       "        [0.],\n",
       "        [0.],\n",
       "        [0.],\n",
       "        [0.],\n",
       "        [0.],\n",
       "        [0.],\n",
       "        [0.],\n",
       "        [0.],\n",
       "        [0.],\n",
       "        [0.],\n",
       "        [0.],\n",
       "        [0.],\n",
       "        [0.],\n",
       "        [0.],\n",
       "        [0.]])"
      ]
     },
     "execution_count": 66,
     "metadata": {},
     "output_type": "execute_result"
    }
   ],
   "source": [
    "target = torch.zeros_like(unique_batches.squeeze(), dtype=torch.float)\n",
    "target"
   ]
  },
  {
   "cell_type": "code",
   "execution_count": 67,
   "id": "d3765c17",
   "metadata": {},
   "outputs": [
    {
     "ename": "RuntimeError",
     "evalue": "Index tensor must have the same number of dimensions as self tensor",
     "output_type": "error",
     "traceback": [
      "\u001b[0;31m---------------------------------------------------------------------------\u001b[0m",
      "\u001b[0;31mRuntimeError\u001b[0m                              Traceback (most recent call last)",
      "Cell \u001b[0;32mIn[67], line 1\u001b[0m\n\u001b[0;32m----> 1\u001b[0m \u001b[43mtarget\u001b[49m\u001b[38;5;241;43m.\u001b[39;49m\u001b[43mscatter_add_\u001b[49m\u001b[43m(\u001b[49m\u001b[38;5;241;43m0\u001b[39;49m\u001b[43m,\u001b[49m\u001b[43m \u001b[49m\u001b[43mneighbor_batches\u001b[49m\u001b[38;5;241;43m.\u001b[39;49m\u001b[43msqueeze\u001b[49m\u001b[43m(\u001b[49m\u001b[43m)\u001b[49m\u001b[43m,\u001b[49m\u001b[43m \u001b[49m\u001b[43mP\u001b[49m\u001b[43m)\u001b[49m\n",
      "\u001b[0;31mRuntimeError\u001b[0m: Index tensor must have the same number of dimensions as self tensor"
     ]
    }
   ],
   "source": [
    "target.scatter_add_(0, neighbor_batches.squeeze(), P)"
   ]
  },
  {
   "cell_type": "code",
   "execution_count": 65,
   "id": "89ec26b5",
   "metadata": {},
   "outputs": [],
   "source": [
    "from src.harmony import kmeans"
   ]
  },
  {
   "cell_type": "code",
   "execution_count": 33,
   "id": "2fc3d266",
   "metadata": {},
   "outputs": [],
   "source": [
    "clusters, initial = kmeans(X, 5)"
   ]
  },
  {
   "cell_type": "code",
   "execution_count": 34,
   "id": "dd9c2520",
   "metadata": {},
   "outputs": [
    {
     "data": {
      "text/plain": [
       "tensor([0, 2, 0, 2, 0, 2, 3, 0, 4, 3, 2, 2, 3, 4, 0, 1, 0, 1, 1, 4])"
      ]
     },
     "execution_count": 34,
     "metadata": {},
     "output_type": "execute_result"
    }
   ],
   "source": [
    "clusters"
   ]
  },
  {
   "cell_type": "code",
   "execution_count": 35,
   "id": "3a87bc99",
   "metadata": {},
   "outputs": [
    {
     "data": {
      "text/plain": [
       "tensor([[0.5152, 0.6251, 0.4648, 0.2677, 0.8065],\n",
       "        [0.9214, 0.7754, 0.6769, 0.6754, 0.6930],\n",
       "        [0.4996, 0.1874, 0.4587, 0.4212, 0.2909],\n",
       "        [0.3072, 0.7661, 0.3963, 0.7026, 0.4590],\n",
       "        [0.2935, 0.9202, 0.7524, 0.4808, 0.1952]])"
      ]
     },
     "execution_count": 35,
     "metadata": {},
     "output_type": "execute_result"
    }
   ],
   "source": [
    "initial"
   ]
  },
  {
   "cell_type": "code",
   "execution_count": null,
   "id": "cf3a5174",
   "metadata": {},
   "outputs": [],
   "source": []
  }
 ],
 "metadata": {
  "kernelspec": {
   "display_name": "ak",
   "language": "python",
   "name": "ak"
  },
  "language_info": {
   "codemirror_mode": {
    "name": "ipython",
    "version": 3
   },
   "file_extension": ".py",
   "mimetype": "text/x-python",
   "name": "python",
   "nbconvert_exporter": "python",
   "pygments_lexer": "ipython3",
   "version": "3.9.16"
  }
 },
 "nbformat": 4,
 "nbformat_minor": 5
}
