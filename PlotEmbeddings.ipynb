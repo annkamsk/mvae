{
 "cells": [
  {
   "cell_type": "code",
   "execution_count": 2,
   "id": "eaba9d9f",
   "metadata": {},
   "outputs": [],
   "source": [
    "import os\n",
    "os.environ[\"CUDA_VISIBLE_DEVICES\"]=\"0\""
   ]
  },
  {
   "cell_type": "code",
   "execution_count": 3,
   "id": "22e4aee9",
   "metadata": {},
   "outputs": [],
   "source": [
    "from src.model import MVAE\n",
    "\n",
    "import numpy as np\n",
    "import pandas as pd\n",
    "import scanpy as sc\n",
    "import muon as mu\n",
    "from muon import MuData\n",
    "from tqdm import tqdm, trange\n",
    "import matplotlib.pyplot as plt"
   ]
  },
  {
   "cell_type": "code",
   "execution_count": 4,
   "id": "aba14805",
   "metadata": {},
   "outputs": [
    {
     "data": {
      "text/html": [
       "<pre>MuData object with n_obs × n_vars = 42475 × 41023\n",
       "  obs:\t&#x27;sample&#x27;, &#x27;imagerow&#x27;, &#x27;imagecol&#x27;\n",
       "  2 modalities\n",
       "    rna:\t42475 x 9048\n",
       "      obs:\t&#x27;orig.ident&#x27;, &#x27;nCount_Spatial&#x27;, &#x27;nFeature_Spatial&#x27;, &#x27;percent.mito&#x27;, &#x27;percent.ribo&#x27;, &#x27;sample&#x27;, &#x27;patient&#x27;, &#x27;tissue&#x27;, &#x27;nFeature_Spatial_filt&#x27;, &#x27;nCount_Spatial_filt&#x27;, &#x27;Genes700&#x27;, &#x27;Counts1000&#x27;, &#x27;MT_25&#x27;, &#x27;Genes700Counts1000&#x27;, &#x27;Genes700Counts1000_MT25&#x27;, &#x27;nCount_SCT&#x27;, &#x27;nFeature_SCT&#x27;, &#x27;PCA_res.0.1&#x27;, &#x27;PCA_res.0.2&#x27;, &#x27;PCA_res.0.3&#x27;, &#x27;PCA_res.0.4&#x27;, &#x27;PCA_res.0.5&#x27;, &#x27;PCA_res.0.6&#x27;, &#x27;PCA_res.0.7&#x27;, &#x27;PCA_res.0.8&#x27;, &#x27;PCA_res.0.9&#x27;, &#x27;PCA_res.1&#x27;, &#x27;PCA_res.1.1&#x27;, &#x27;PCA_res.1.2&#x27;, &#x27;PCA_res.1.3&#x27;, &#x27;PCA_res.1.4&#x27;, &#x27;PCA_res.1.5&#x27;, &#x27;seurat_clusters&#x27;, &#x27;NMF_res.0.1&#x27;, &#x27;NMF_res.0.2&#x27;, &#x27;NMF_res.0.3&#x27;, &#x27;NMF_res.0.4&#x27;, &#x27;NMF_res.0.5&#x27;, &#x27;NMF_res.0.6&#x27;, &#x27;NMF_res.0.7&#x27;, &#x27;NMF_res.0.8&#x27;, &#x27;NMF_res.0.9&#x27;, &#x27;NMF_res.1&#x27;, &#x27;NMF_res.1.1&#x27;, &#x27;NMF_res.1.2&#x27;, &#x27;NMF_res.1.3&#x27;, &#x27;NMF_res.1.4&#x27;, &#x27;NMF_res.1.5&#x27;, &#x27;imagerow&#x27;, &#x27;imagecol&#x27;\n",
       "      obsm:\t&#x27;X_NMF&#x27;, &#x27;X_pca&#x27;, &#x27;X_umap&#x27;\n",
       "    msi:\t42475 x 31975\n",
       "      obs:\t&#x27;ST_barcode&#x27;, &#x27;sample&#x27;, &#x27;tissue&#x27;</pre>"
      ],
      "text/plain": [
       "MuData object with n_obs × n_vars = 42475 × 41023\n",
       "  obs:\t'sample', 'imagerow', 'imagecol'\n",
       "  2 modalities\n",
       "    rna:\t42475 x 9048\n",
       "      obs:\t'orig.ident', 'nCount_Spatial', 'nFeature_Spatial', 'percent.mito', 'percent.ribo', 'sample', 'patient', 'tissue', 'nFeature_Spatial_filt', 'nCount_Spatial_filt', 'Genes700', 'Counts1000', 'MT_25', 'Genes700Counts1000', 'Genes700Counts1000_MT25', 'nCount_SCT', 'nFeature_SCT', 'PCA_res.0.1', 'PCA_res.0.2', 'PCA_res.0.3', 'PCA_res.0.4', 'PCA_res.0.5', 'PCA_res.0.6', 'PCA_res.0.7', 'PCA_res.0.8', 'PCA_res.0.9', 'PCA_res.1', 'PCA_res.1.1', 'PCA_res.1.2', 'PCA_res.1.3', 'PCA_res.1.4', 'PCA_res.1.5', 'seurat_clusters', 'NMF_res.0.1', 'NMF_res.0.2', 'NMF_res.0.3', 'NMF_res.0.4', 'NMF_res.0.5', 'NMF_res.0.6', 'NMF_res.0.7', 'NMF_res.0.8', 'NMF_res.0.9', 'NMF_res.1', 'NMF_res.1.1', 'NMF_res.1.2', 'NMF_res.1.3', 'NMF_res.1.4', 'NMF_res.1.5', 'imagerow', 'imagecol'\n",
       "      obsm:\t'X_NMF', 'X_pca', 'X_umap'\n",
       "    msi:\t42475 x 31975\n",
       "      obs:\t'ST_barcode', 'sample', 'tissue'"
      ]
     },
     "execution_count": 4,
     "metadata": {},
     "output_type": "execute_result"
    }
   ],
   "source": [
    "mdata = mu.read('/media/yob/gabriele/OtF-prostate/data/mdata_preprocessed.h5mu')\n",
    "mdata"
   ]
  },
  {
   "cell_type": "code",
   "execution_count": 7,
   "id": "dc550f33",
   "metadata": {},
   "outputs": [],
   "source": [
    "sc.pp.neighbors(mdata.mod['rna'])\n",
    "sc.tl.umap(mdata.mod['rna'])"
   ]
  },
  {
   "cell_type": "code",
   "execution_count": 8,
   "id": "b3a36cc9",
   "metadata": {},
   "outputs": [],
   "source": [
    "sc.pp.neighbors(mdata.mod['msi'])\n",
    "sc.tl.umap(mdata.mod['msi'])"
   ]
  },
  {
   "cell_type": "code",
   "execution_count": 9,
   "id": "10321030",
   "metadata": {},
   "outputs": [],
   "source": [
    "from scipy import sparse\n",
    "\n",
    "if sparse.issparse(mdata.mod['rna'].X):\n",
    "    mdata.mod['rna'].X = mdata.mod['rna'].X.A\n",
    "if sparse.issparse(mdata.mod['msi'].X):\n",
    "    mdata.mod['msi'].X = mdata.mod['msi'].X.A"
   ]
  },
  {
   "cell_type": "code",
   "execution_count": 10,
   "id": "e3b0e1ca",
   "metadata": {},
   "outputs": [],
   "source": [
    "mdata.obs['extra_categorical_covs']=0\n",
    "\n",
    "# assign batch_id\n",
    "mdata.obs[\"batch_id\"] = pd.Categorical(pd.factorize(mdata.obs.loc[:,\"sample\"])[0])\n",
    "mdata.obs[\"batch\"] = pd.Categorical(pd.factorize(mdata.obs.loc[:,\"sample\"])[0])\n",
    "## both modalities have same size\n",
    "mdata.mod['rna'].obs['batch_id'] = mdata.obs[\"batch_id\"]\n",
    "mdata.mod['msi'].obs['batch_id'] = mdata.obs[\"batch_id\"]\n",
    "mdata.mod[\"rna\"].uns[\"n_batch\"] = len(mdata.mod[\"rna\"].obs[\"batch_id\"].cat.categories)\n",
    "mdata.mod[\"msi\"].uns[\"n_batch\"] = len(mdata.mod[\"msi\"].obs[\"batch_id\"].cat.categories)"
   ]
  },
  {
   "cell_type": "code",
   "execution_count": 11,
   "id": "b1a257be",
   "metadata": {},
   "outputs": [
    {
     "data": {
      "text/plain": [
       "(42475, 9048)"
      ]
     },
     "execution_count": 11,
     "metadata": {},
     "output_type": "execute_result"
    }
   ],
   "source": [
    "mdata.mod[\"rna\"].shape"
   ]
  },
  {
   "cell_type": "code",
   "execution_count": 12,
   "id": "60d75df6",
   "metadata": {},
   "outputs": [
    {
     "name": "stdout",
     "output_type": "stream",
     "text": [
      "N batches for mod1:  16\n",
      "N batches for mod2:  16\n",
      "(42475, 9048)\n",
      "(42475, 31975)\n"
     ]
    }
   ],
   "source": [
    "from src.model import MVAEParams\n",
    "from src.train import TrainParams\n",
    "params = MVAEParams(beta=0.1, n_layers=2, z_dim=100, n_hidden=300)\n",
    "train_params = TrainParams(batch_size=1028)\n",
    "model = MVAE(mdata, params, use_cuda=True)\n"
   ]
  },
  {
   "cell_type": "code",
   "execution_count": 13,
   "id": "46cc2d0c",
   "metadata": {},
   "outputs": [],
   "source": [
    "import torch\n",
    "model_dict = torch.load('mvae_params.pt', map_location='cuda')"
   ]
  },
  {
   "cell_type": "code",
   "execution_count": 14,
   "id": "3afe5087",
   "metadata": {},
   "outputs": [
    {
     "data": {
      "text/plain": [
       "<All keys matched successfully>"
      ]
     },
     "execution_count": 14,
     "metadata": {},
     "output_type": "execute_result"
    }
   ],
   "source": [
    "model.load_state_dict(model_dict)"
   ]
  },
  {
   "cell_type": "code",
   "execution_count": 15,
   "id": "fae21119",
   "metadata": {},
   "outputs": [],
   "source": [
    "torch.set_num_threads(16)"
   ]
  },
  {
   "cell_type": "code",
   "execution_count": 16,
   "id": "0ad83a6a",
   "metadata": {},
   "outputs": [
    {
     "name": "stderr",
     "output_type": "stream",
     "text": [
      "100%|███████████████████████████████████████████| 42/42 [00:34<00:00,  1.21it/s]\n"
     ]
    }
   ],
   "source": [
    "from src.train import to_latent\n",
    "mvae_emb, z1_p, z2_p, z1_p_mod, z2_p_mod, z1_s, z2_s = to_latent(model, mdata, train_params)"
   ]
  },
  {
   "cell_type": "code",
   "execution_count": null,
   "id": "1250e4d5",
   "metadata": {},
   "outputs": [],
   "source": [
    "from src.train import predict\n",
    "x1_poe, x2_poe, x1, x2, x1_2, x2_1, x1_batch_free, x2_batch_free = predict(model, mdata, train_params)\n"
   ]
  },
  {
   "cell_type": "code",
   "execution_count": null,
   "id": "d80b273d",
   "metadata": {},
   "outputs": [],
   "source": [
    "mdata.mod['rna'].layers['rna_poe'] = np.vstack(x1_poe)\n",
    "mdata.mod['msi'].layers['msi_poe'] = np.vstack(x2_poe)\n",
    "mdata.mod['rna'].layers['rna'] = np.vstack(x1)\n",
    "mdata.mod['msi'].layers['msi'] = np.vstack(x2)\n",
    "mdata.mod['rna'].layers['loss_msi_rna'] = np.vstack(x2_1)\n",
    "mdata.mod['msi'].layers['loss_rna_msi'] = np.vstack(x1_2)\n",
    "mdata.mod['rna'].layers['rna_batch_free'] = np.vstack(x1_batch_free)\n",
    "mdata.mod['msi'].layers['msi_batch_free'] = np.vstack(x2_batch_free)"
   ]
  },
  {
   "cell_type": "code",
   "execution_count": null,
   "id": "a1cbe7c1",
   "metadata": {},
   "outputs": [],
   "source": [
    "mvae_emb = [x.numpy() for x in mvae_emb]\n",
    "mvae_emb = np.vstack(mvae_emb)"
   ]
  },
  {
   "cell_type": "code",
   "execution_count": null,
   "id": "87719250",
   "metadata": {},
   "outputs": [],
   "source": [
    "mdata.obsm['z_mvae'] = mvae_emb\n",
    "mdata.obsm['z1_s'] = np.vstack(z1_s)\n",
    "mdata.obsm['z2_s'] = np.vstack(z2_s)\n",
    "mdata.obsm['z1_p'] = np.vstack(z1_p)\n",
    "mdata.obsm['z1_p_mod'] = np.vstack(z1_p_mod)\n",
    "mdata.obsm['z2_p'] = np.vstack(z2_p)\n",
    "mdata.obsm['z2_p_mod'] = np.vstack(z2_p_mod)"
   ]
  },
  {
   "cell_type": "code",
   "execution_count": null,
   "id": "99b14629",
   "metadata": {},
   "outputs": [],
   "source": [
    "mdata.obs['mod_id'] = mdata.obsm['rna'].astype(int)+(mdata.obsm['msi'].astype(int)*2)\n",
    "d ={1:'rna', 2:'msi', 3:'multiome'}\n",
    "mdata.obs.mod_id = mdata.obs.mod_id.map(d)\n",
    "mdata.obs"
   ]
  },
  {
   "cell_type": "code",
   "execution_count": null,
   "id": "5daa14e0",
   "metadata": {},
   "outputs": [],
   "source": [
    "sc.pp.neighbors(mdata, use_rep='z_mvae', n_neighbors=10)\n",
    "sc.tl.umap(mdata)\n",
    "mdata.obsm['X_mvae'] =  mdata.obsm['X_umap']"
   ]
  },
  {
   "cell_type": "code",
   "execution_count": null,
   "id": "de90a259",
   "metadata": {},
   "outputs": [],
   "source": [
    "sc.pp.neighbors(mdata, n_neighbors=5, use_rep='z2_p', key_added='msi_p')\n",
    "sc.tl.umap(mdata, neighbors_key='msi_p')\n",
    "mdata.obsm['X_z2_p'] =  mdata.obsm['X_umap']\n",
    "\n",
    "sc.pp.neighbors(mdata, n_neighbors=5, use_rep='z2_p_mod', key_added='msi_p_mod')\n",
    "sc.tl.umap(mdata, neighbors_key='msi_p_mod')\n",
    "mdata.obsm['X_z2_p_mod'] =  mdata.obsm['X_umap']\n",
    "\n",
    "sc.pp.neighbors(mdata, n_neighbors=5, use_rep='z1_p', key_added='rna_p')\n",
    "sc.tl.umap(mdata, neighbors_key='rna_p')\n",
    "mdata.obsm['X_z1_p'] =  mdata.obsm['X_umap']\n",
    "\n",
    "sc.pp.neighbors(mdata, n_neighbors=5, use_rep='z1_p_mod', key_added='rna_p_mod')\n",
    "sc.tl.umap(mdata, neighbors_key='rna_p_mod')\n",
    "mdata.obsm['X_z1_p_mod'] =  mdata.obsm['X_umap']\n",
    "\n",
    "sc.pp.neighbors(mdata, n_neighbors=5, use_rep='z2_s', key_added='msi_s')\n",
    "sc.tl.umap(mdata, neighbors_key='msi_s')\n",
    "mdata.obsm['X_z2_s'] =  mdata.obsm['X_umap']\n",
    "\n",
    "sc.pp.neighbors(mdata, n_neighbors=5, use_rep='z1_s', key_added='rna_s')\n",
    "sc.tl.umap(mdata, neighbors_key='rna_s')\n",
    "mdata.obsm['X_z1_s'] =  mdata.obsm['X_umap']"
   ]
  },
  {
   "cell_type": "code",
   "execution_count": null,
   "id": "99ae9696",
   "metadata": {},
   "outputs": [],
   "source": [
    "mdata.obs['patient'] = mdata.mod['rna'].obs['patient']\n",
    "mdata.obs['tissue'] = mdata.mod['rna'].obs['tissue']\n",
    "mdata.obs['seurat_clusters'] = mdata.mod['rna'].obs['seurat_clusters'].astype('category')\n",
    "mdata.mod['rna'].obs['seurat_clusters'] = mdata.mod['rna'].obs['seurat_clusters'].astype('category')"
   ]
  },
  {
   "cell_type": "code",
   "execution_count": null,
   "id": "ad865388",
   "metadata": {},
   "outputs": [],
   "source": [
    "sc.tl.leiden(mdata, resolution=0.8, key_added='r0.8')"
   ]
  },
  {
   "cell_type": "code",
   "execution_count": null,
   "id": "4dc132a6",
   "metadata": {},
   "outputs": [],
   "source": [
    "mdata.mod['rna'].obs['r0.8'] = mdata.obs.loc[mdata.mod['rna'].obs.index, 'r0.8'].values"
   ]
  },
  {
   "cell_type": "code",
   "execution_count": null,
   "id": "1f2b8066",
   "metadata": {},
   "outputs": [],
   "source": [
    "sc.pl.embedding(mdata, 'X_mvae', color=['tissue', 'r0.8', 'seurat_clusters', 'sample'], size=15, wspace=0.35)"
   ]
  },
  {
   "cell_type": "code",
   "execution_count": null,
   "id": "6aa88214",
   "metadata": {},
   "outputs": [],
   "source": [
    "sc.pl.embedding(mdata, 'X_z1_p', color=['tissue', 'r0.8', 'seurat_clusters', 'sample'], size=15, wspace=0.35)\n"
   ]
  }
 ],
 "metadata": {
  "kernelspec": {
   "display_name": "ak",
   "language": "python",
   "name": "ak"
  },
  "language_info": {
   "codemirror_mode": {
    "name": "ipython",
    "version": 3
   },
   "file_extension": ".py",
   "mimetype": "text/x-python",
   "name": "python",
   "nbconvert_exporter": "python",
   "pygments_lexer": "ipython3",
   "version": "3.9.16"
  }
 },
 "nbformat": 4,
 "nbformat_minor": 5
}
