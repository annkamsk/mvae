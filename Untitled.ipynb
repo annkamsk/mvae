{
 "cells": [
  {
   "cell_type": "code",
   "execution_count": 1,
   "id": "a59f7441",
   "metadata": {},
   "outputs": [],
   "source": [
    "import os\n",
    "os.environ[\"CUDA_VISIBLE_DEVICES\"]=\"1\""
   ]
  },
  {
   "cell_type": "code",
   "execution_count": 2,
   "id": "8fd8b185",
   "metadata": {},
   "outputs": [
    {
     "name": "stdout",
     "output_type": "stream",
     "text": [
      "0.8.0\n",
      "0.2.1\n",
      "1.9.2\n",
      "1.11.0\n"
     ]
    }
   ],
   "source": [
    "import numpy as np\n",
    "import torch\n",
    "import scanpy as sc\n",
    "import muon as mu\n",
    "import anndata\n",
    "import mudata\n",
    "import pandas as pd\n",
    "from anndata.experimental.pytorch import AnnLoader\n",
    "from sklearn.preprocessing import OneHotEncoder\n",
    "from tqdm import tqdm \n",
    "import matplotlib.pyplot as plt\n",
    "\n",
    "print(anndata.__version__)\n",
    "print(mudata.__version__)\n",
    "print(sc.__version__)\n",
    "print(torch.__version__)"
   ]
  },
  {
   "cell_type": "code",
   "execution_count": 3,
   "id": "9f334ed5",
   "metadata": {},
   "outputs": [],
   "source": [
    "%load_ext autoreload\n",
    "%autoreload 2"
   ]
  },
  {
   "cell_type": "code",
   "execution_count": 4,
   "id": "930b084c",
   "metadata": {},
   "outputs": [],
   "source": [
    "mdata = mu.read('/media/yob/gabriele/OtF-prostate/data/mdata_preprocessed.h5mu')"
   ]
  },
  {
   "cell_type": "code",
   "execution_count": 5,
   "id": "8b9c8840",
   "metadata": {},
   "outputs": [
    {
     "data": {
      "text/html": [
       "<pre>MuData object with n_obs × n_vars = 42475 × 41023\n",
       "  obs:\t&#x27;sample&#x27;, &#x27;imagerow&#x27;, &#x27;imagecol&#x27;\n",
       "  2 modalities\n",
       "    rna:\t42475 x 9048\n",
       "      obs:\t&#x27;orig.ident&#x27;, &#x27;nCount_Spatial&#x27;, &#x27;nFeature_Spatial&#x27;, &#x27;percent.mito&#x27;, &#x27;percent.ribo&#x27;, &#x27;sample&#x27;, &#x27;patient&#x27;, &#x27;tissue&#x27;, &#x27;nFeature_Spatial_filt&#x27;, &#x27;nCount_Spatial_filt&#x27;, &#x27;Genes700&#x27;, &#x27;Counts1000&#x27;, &#x27;MT_25&#x27;, &#x27;Genes700Counts1000&#x27;, &#x27;Genes700Counts1000_MT25&#x27;, &#x27;nCount_SCT&#x27;, &#x27;nFeature_SCT&#x27;, &#x27;PCA_res.0.1&#x27;, &#x27;PCA_res.0.2&#x27;, &#x27;PCA_res.0.3&#x27;, &#x27;PCA_res.0.4&#x27;, &#x27;PCA_res.0.5&#x27;, &#x27;PCA_res.0.6&#x27;, &#x27;PCA_res.0.7&#x27;, &#x27;PCA_res.0.8&#x27;, &#x27;PCA_res.0.9&#x27;, &#x27;PCA_res.1&#x27;, &#x27;PCA_res.1.1&#x27;, &#x27;PCA_res.1.2&#x27;, &#x27;PCA_res.1.3&#x27;, &#x27;PCA_res.1.4&#x27;, &#x27;PCA_res.1.5&#x27;, &#x27;seurat_clusters&#x27;, &#x27;NMF_res.0.1&#x27;, &#x27;NMF_res.0.2&#x27;, &#x27;NMF_res.0.3&#x27;, &#x27;NMF_res.0.4&#x27;, &#x27;NMF_res.0.5&#x27;, &#x27;NMF_res.0.6&#x27;, &#x27;NMF_res.0.7&#x27;, &#x27;NMF_res.0.8&#x27;, &#x27;NMF_res.0.9&#x27;, &#x27;NMF_res.1&#x27;, &#x27;NMF_res.1.1&#x27;, &#x27;NMF_res.1.2&#x27;, &#x27;NMF_res.1.3&#x27;, &#x27;NMF_res.1.4&#x27;, &#x27;NMF_res.1.5&#x27;, &#x27;imagerow&#x27;, &#x27;imagecol&#x27;\n",
       "      obsm:\t&#x27;X_NMF&#x27;, &#x27;X_pca&#x27;, &#x27;X_umap&#x27;\n",
       "    msi:\t42475 x 31975\n",
       "      obs:\t&#x27;ST_barcode&#x27;, &#x27;sample&#x27;, &#x27;tissue&#x27;</pre>"
      ],
      "text/plain": [
       "MuData object with n_obs × n_vars = 42475 × 41023\n",
       "  obs:\t'sample', 'imagerow', 'imagecol'\n",
       "  2 modalities\n",
       "    rna:\t42475 x 9048\n",
       "      obs:\t'orig.ident', 'nCount_Spatial', 'nFeature_Spatial', 'percent.mito', 'percent.ribo', 'sample', 'patient', 'tissue', 'nFeature_Spatial_filt', 'nCount_Spatial_filt', 'Genes700', 'Counts1000', 'MT_25', 'Genes700Counts1000', 'Genes700Counts1000_MT25', 'nCount_SCT', 'nFeature_SCT', 'PCA_res.0.1', 'PCA_res.0.2', 'PCA_res.0.3', 'PCA_res.0.4', 'PCA_res.0.5', 'PCA_res.0.6', 'PCA_res.0.7', 'PCA_res.0.8', 'PCA_res.0.9', 'PCA_res.1', 'PCA_res.1.1', 'PCA_res.1.2', 'PCA_res.1.3', 'PCA_res.1.4', 'PCA_res.1.5', 'seurat_clusters', 'NMF_res.0.1', 'NMF_res.0.2', 'NMF_res.0.3', 'NMF_res.0.4', 'NMF_res.0.5', 'NMF_res.0.6', 'NMF_res.0.7', 'NMF_res.0.8', 'NMF_res.0.9', 'NMF_res.1', 'NMF_res.1.1', 'NMF_res.1.2', 'NMF_res.1.3', 'NMF_res.1.4', 'NMF_res.1.5', 'imagerow', 'imagecol'\n",
       "      obsm:\t'X_NMF', 'X_pca', 'X_umap'\n",
       "    msi:\t42475 x 31975\n",
       "      obs:\t'ST_barcode', 'sample', 'tissue'"
      ]
     },
     "execution_count": 5,
     "metadata": {},
     "output_type": "execute_result"
    }
   ],
   "source": [
    "mdata"
   ]
  },
  {
   "cell_type": "code",
   "execution_count": 6,
   "id": "9d7f2a0a",
   "metadata": {},
   "outputs": [],
   "source": [
    "mdata.obs['extra_categorical_covs']=0\n",
    "\n",
    "# assign batch_id\n",
    "mdata.obs[\"batch\"] = pd.Categorical(pd.factorize(mdata.obs.loc[:,\"sample\"])[0])\n",
    "## both modalities have same size\n",
    "mdata.mod['rna'].obs['batch_id'] = mdata.obs[\"batch\"]\n",
    "mdata.mod['msi'].obs['batch_id'] = mdata.obs[\"batch\"]\n",
    "mdata.mod[\"rna\"].uns[\"n_batch\"] = len(mdata.mod[\"rna\"].obs[\"batch_id\"].cat.categories)\n",
    "mdata.mod[\"msi\"].uns[\"n_batch\"] = len(mdata.mod[\"msi\"].obs[\"batch_id\"].cat.categories)"
   ]
  },
  {
   "cell_type": "code",
   "execution_count": 10,
   "id": "5bdd979a",
   "metadata": {},
   "outputs": [],
   "source": [
    "from src.dataloader import mudata_to_dataloader, ObsModalityMembership, Modality\n",
    "from src.model import MVAE, MVAEParams\n",
    "\n",
    "mvae_params = MVAEParams(beta=0.1, n_layers=2, z_dim=100, n_hidden=300)"
   ]
  },
  {
   "cell_type": "code",
   "execution_count": 11,
   "id": "fe74f82c",
   "metadata": {},
   "outputs": [
    {
     "name": "stdout",
     "output_type": "stream",
     "text": [
      "N batches for mod1:  16\n",
      "N batches for mod2:  16\n",
      "(42475, 9048)\n",
      "(42475, 31975)\n"
     ]
    }
   ],
   "source": [
    "torch.set_num_threads(16)\n",
    "model = MVAE(mdata, mvae_params, use_cuda=True)"
   ]
  },
  {
   "cell_type": "code",
   "execution_count": 16,
   "id": "36452eb0",
   "metadata": {},
   "outputs": [
    {
     "data": {
      "text/plain": [
       "MVAE(\n",
       "  (rna): ModalityLayers(\n",
       "    (shared_sampling): SamplingLayers(\n",
       "      (mean): Sequential(\n",
       "        (0): Linear(in_features=300, out_features=100, bias=True)\n",
       "        (1): Dropout(p=0.1, inplace=False)\n",
       "      )\n",
       "      (logvar): Sequential(\n",
       "        (0): Linear(in_features=300, out_features=100, bias=True)\n",
       "        (1): Dropout(p=0.1, inplace=False)\n",
       "      )\n",
       "    )\n",
       "    (batch_sampling): SamplingLayers(\n",
       "      (mean): Sequential(\n",
       "        (0): Linear(in_features=300, out_features=1600, bias=True)\n",
       "        (1): Dropout(p=0.1, inplace=False)\n",
       "      )\n",
       "      (logvar): Sequential(\n",
       "        (0): Linear(in_features=300, out_features=1600, bias=True)\n",
       "        (1): Dropout(p=0.1, inplace=False)\n",
       "      )\n",
       "    )\n",
       "    (private_sampling): SamplingLayers(\n",
       "      (mean): Sequential(\n",
       "        (0): Linear(in_features=300, out_features=100, bias=True)\n",
       "        (1): Dropout(p=0.1, inplace=False)\n",
       "      )\n",
       "      (logvar): Sequential(\n",
       "        (0): Linear(in_features=300, out_features=100, bias=True)\n",
       "        (1): Dropout(p=0.1, inplace=False)\n",
       "      )\n",
       "    )\n",
       "    (encoder): FullyConnectedLayers(\n",
       "      (0): Linear(in_features=9048, out_features=300, bias=True)\n",
       "      (1): ReLU()\n",
       "      (2): Dropout(p=0.1, inplace=False)\n",
       "      (3): Linear(in_features=300, out_features=300, bias=True)\n",
       "      (4): ReLU()\n",
       "      (5): Dropout(p=0.1, inplace=False)\n",
       "      (6): Linear(in_features=300, out_features=300, bias=True)\n",
       "      (7): ReLU()\n",
       "      (8): Dropout(p=0.1, inplace=False)\n",
       "    )\n",
       "    (decoder): FullyConnectedLayers(\n",
       "      (0): Linear(in_features=100, out_features=300, bias=True)\n",
       "      (1): ReLU()\n",
       "      (2): Dropout(p=0.1, inplace=False)\n",
       "      (3): Linear(in_features=300, out_features=300, bias=True)\n",
       "      (4): ReLU()\n",
       "      (5): Dropout(p=0.1, inplace=False)\n",
       "      (6): Linear(in_features=300, out_features=300, bias=True)\n",
       "      (7): ReLU()\n",
       "      (8): Dropout(p=0.1, inplace=False)\n",
       "    )\n",
       "    (final): Sequential(\n",
       "      (0): Linear(in_features=300, out_features=9048, bias=True)\n",
       "      (1): ReLU()\n",
       "    )\n",
       "  )\n",
       "  (msi): ModalityLayers(\n",
       "    (shared_sampling): SamplingLayers(\n",
       "      (mean): Sequential(\n",
       "        (0): Linear(in_features=300, out_features=100, bias=True)\n",
       "        (1): Dropout(p=0.1, inplace=False)\n",
       "      )\n",
       "      (logvar): Sequential(\n",
       "        (0): Linear(in_features=300, out_features=100, bias=True)\n",
       "        (1): Dropout(p=0.1, inplace=False)\n",
       "      )\n",
       "    )\n",
       "    (batch_sampling): SamplingLayers(\n",
       "      (mean): Sequential(\n",
       "        (0): Linear(in_features=300, out_features=1600, bias=True)\n",
       "        (1): Dropout(p=0.1, inplace=False)\n",
       "      )\n",
       "      (logvar): Sequential(\n",
       "        (0): Linear(in_features=300, out_features=1600, bias=True)\n",
       "        (1): Dropout(p=0.1, inplace=False)\n",
       "      )\n",
       "    )\n",
       "    (private_sampling): SamplingLayers(\n",
       "      (mean): Sequential(\n",
       "        (0): Linear(in_features=300, out_features=100, bias=True)\n",
       "        (1): Dropout(p=0.1, inplace=False)\n",
       "      )\n",
       "      (logvar): Sequential(\n",
       "        (0): Linear(in_features=300, out_features=100, bias=True)\n",
       "        (1): Dropout(p=0.1, inplace=False)\n",
       "      )\n",
       "    )\n",
       "    (encoder): FullyConnectedLayers(\n",
       "      (0): Linear(in_features=31975, out_features=300, bias=True)\n",
       "      (1): ReLU()\n",
       "      (2): Dropout(p=0.1, inplace=False)\n",
       "      (3): Linear(in_features=300, out_features=300, bias=True)\n",
       "      (4): ReLU()\n",
       "      (5): Dropout(p=0.1, inplace=False)\n",
       "      (6): Linear(in_features=300, out_features=300, bias=True)\n",
       "      (7): ReLU()\n",
       "      (8): Dropout(p=0.1, inplace=False)\n",
       "    )\n",
       "    (decoder): FullyConnectedLayers(\n",
       "      (0): Linear(in_features=100, out_features=300, bias=True)\n",
       "      (1): ReLU()\n",
       "      (2): Dropout(p=0.1, inplace=False)\n",
       "      (3): Linear(in_features=300, out_features=300, bias=True)\n",
       "      (4): ReLU()\n",
       "      (5): Dropout(p=0.1, inplace=False)\n",
       "      (6): Linear(in_features=300, out_features=300, bias=True)\n",
       "      (7): ReLU()\n",
       "      (8): Dropout(p=0.1, inplace=False)\n",
       "    )\n",
       "    (final): Sequential(\n",
       "      (0): Linear(in_features=300, out_features=31975, bias=True)\n",
       "      (1): ReLU()\n",
       "    )\n",
       "  )\n",
       "  (poe): PoE()\n",
       ")"
      ]
     },
     "execution_count": 16,
     "metadata": {},
     "output_type": "execute_result"
    }
   ],
   "source": [
    "model"
   ]
  },
  {
   "cell_type": "code",
   "execution_count": 17,
   "id": "86164a4f",
   "metadata": {},
   "outputs": [],
   "source": [
    "from src.train import train_mvae, TrainParams"
   ]
  },
  {
   "cell_type": "code",
   "execution_count": 18,
   "id": "c4b9925f",
   "metadata": {},
   "outputs": [],
   "source": [
    "train_params = TrainParams(train_size=0.8, n_epochs=100, learning_rate=1e-4, batch_size=128)"
   ]
  },
  {
   "cell_type": "code",
   "execution_count": 19,
   "id": "5148ec37",
   "metadata": {},
   "outputs": [
    {
     "name": "stdout",
     "output_type": "stream",
     "text": [
      "Train data size: 33980\n",
      "Test data size: 8495\n"
     ]
    },
    {
     "name": "stderr",
     "output_type": "stream",
     "text": [
      "  0%|                                                   | 0/266 [00:00<?, ?it/s]\n"
     ]
    },
    {
     "ename": "KeyError",
     "evalue": "Caught KeyError in DataLoader worker process 0.\nOriginal Traceback (most recent call last):\n  File \"/media/gambino/students_workdir/anna/miniconda3/envs/ak/lib/python3.9/site-packages/pandas/core/indexes/base.py\", line 3802, in get_loc\n    return self._engine.get_loc(casted_key)\n  File \"pandas/_libs/index.pyx\", line 138, in pandas._libs.index.IndexEngine.get_loc\n  File \"pandas/_libs/index.pyx\", line 165, in pandas._libs.index.IndexEngine.get_loc\n  File \"pandas/_libs/hashtable_class_helper.pxi\", line 5745, in pandas._libs.hashtable.PyObjectHashTable.get_item\n  File \"pandas/_libs/hashtable_class_helper.pxi\", line 5753, in pandas._libs.hashtable.PyObjectHashTable.get_item\nKeyError: 'batch'\n\nThe above exception was the direct cause of the following exception:\n\nTraceback (most recent call last):\n  File \"/media/gambino/students_workdir/anna/miniconda3/envs/ak/lib/python3.9/site-packages/torch/utils/data/_utils/worker.py\", line 287, in _worker_loop\n    data = fetcher.fetch(index)\n  File \"/media/gambino/students_workdir/anna/miniconda3/envs/ak/lib/python3.9/site-packages/torch/utils/data/_utils/fetch.py\", line 49, in fetch\n    data = [self.dataset[idx] for idx in possibly_batched_index]\n  File \"/media/gambino/students_workdir/anna/miniconda3/envs/ak/lib/python3.9/site-packages/torch/utils/data/_utils/fetch.py\", line 49, in <listcomp>\n    data = [self.dataset[idx] for idx in possibly_batched_index]\n  File \"/media/gambino/students_workdir/anna/OtF-prostate/src/dataloader.py\", line 29, in __getitem__\n    batch1 = self._get_batch_data(index, Modality.rna)\n  File \"/media/gambino/students_workdir/anna/OtF-prostate/src/dataloader.py\", line 65, in _get_batch_data\n    return self.dataset.mod[modality.name][idx, :].obs.loc[:, BATCH_KEY].values\n  File \"/media/gambino/students_workdir/anna/miniconda3/envs/ak/lib/python3.9/site-packages/pandas/core/indexing.py\", line 1067, in __getitem__\n    return self._getitem_tuple(key)\n  File \"/media/gambino/students_workdir/anna/miniconda3/envs/ak/lib/python3.9/site-packages/pandas/core/indexing.py\", line 1247, in _getitem_tuple\n    return self._getitem_lowerdim(tup)\n  File \"/media/gambino/students_workdir/anna/miniconda3/envs/ak/lib/python3.9/site-packages/pandas/core/indexing.py\", line 967, in _getitem_lowerdim\n    section = self._getitem_axis(key, axis=i)\n  File \"/media/gambino/students_workdir/anna/miniconda3/envs/ak/lib/python3.9/site-packages/pandas/core/indexing.py\", line 1312, in _getitem_axis\n    return self._get_label(key, axis=axis)\n  File \"/media/gambino/students_workdir/anna/miniconda3/envs/ak/lib/python3.9/site-packages/pandas/core/indexing.py\", line 1260, in _get_label\n    return self.obj.xs(label, axis=axis)\n  File \"/media/gambino/students_workdir/anna/miniconda3/envs/ak/lib/python3.9/site-packages/pandas/core/generic.py\", line 4041, in xs\n    return self[key]\n  File \"/media/gambino/students_workdir/anna/miniconda3/envs/ak/lib/python3.9/site-packages/pandas/core/frame.py\", line 3807, in __getitem__\n    indexer = self.columns.get_loc(key)\n  File \"/media/gambino/students_workdir/anna/miniconda3/envs/ak/lib/python3.9/site-packages/pandas/core/indexes/base.py\", line 3804, in get_loc\n    raise KeyError(key) from err\nKeyError: 'batch'\n",
     "output_type": "error",
     "traceback": [
      "\u001b[0;31m---------------------------------------------------------------------------\u001b[0m",
      "\u001b[0;31mKeyError\u001b[0m                                  Traceback (most recent call last)",
      "Cell \u001b[0;32mIn[19], line 1\u001b[0m\n\u001b[0;32m----> 1\u001b[0m model, hist \u001b[38;5;241m=\u001b[39m \u001b[43mtrain_mvae\u001b[49m\u001b[43m(\u001b[49m\u001b[43mmodel\u001b[49m\u001b[43m,\u001b[49m\u001b[43m \u001b[49m\u001b[43mmdata\u001b[49m\u001b[43m,\u001b[49m\u001b[43m \u001b[49m\u001b[43mtrain_params\u001b[49m\u001b[43m)\u001b[49m\n",
      "File \u001b[0;32m/media/gambino/students_workdir/anna/OtF-prostate/src/train.py:134\u001b[0m, in \u001b[0;36mtrain_mvae\u001b[0;34m(model, mdata, params)\u001b[0m\n\u001b[1;32m    127\u001b[0m test_loader, test_loader_pairs \u001b[38;5;241m=\u001b[39m mudata_to_dataloader(\n\u001b[1;32m    128\u001b[0m     test_mdata,\n\u001b[1;32m    129\u001b[0m     batch_size\u001b[38;5;241m=\u001b[39mparams\u001b[38;5;241m.\u001b[39mbatch_size,\n\u001b[1;32m    130\u001b[0m     shuffle\u001b[38;5;241m=\u001b[39mparams\u001b[38;5;241m.\u001b[39mshuffle,\n\u001b[1;32m    131\u001b[0m )\n\u001b[1;32m    132\u001b[0m model\u001b[38;5;241m.\u001b[39mto(model\u001b[38;5;241m.\u001b[39mdevice)\n\u001b[0;32m--> 134\u001b[0m epoch_history \u001b[38;5;241m=\u001b[39m \u001b[43mtrain\u001b[49m\u001b[43m(\u001b[49m\n\u001b[1;32m    135\u001b[0m \u001b[43m    \u001b[49m\u001b[43mmodel\u001b[49m\u001b[43m,\u001b[49m\n\u001b[1;32m    136\u001b[0m \u001b[43m    \u001b[49m\u001b[43mtrain_loader\u001b[49m\u001b[43m,\u001b[49m\n\u001b[1;32m    137\u001b[0m \u001b[43m    \u001b[49m\u001b[43mtrain_loader_pairs\u001b[49m\u001b[43m,\u001b[49m\n\u001b[1;32m    138\u001b[0m \u001b[43m    \u001b[49m\u001b[43mtest_loader\u001b[49m\u001b[43m,\u001b[49m\n\u001b[1;32m    139\u001b[0m \u001b[43m    \u001b[49m\u001b[43mtest_loader_pairs\u001b[49m\u001b[43m,\u001b[49m\n\u001b[1;32m    140\u001b[0m \u001b[43m    \u001b[49m\u001b[43mparams\u001b[49m\u001b[43m,\u001b[49m\n\u001b[1;32m    141\u001b[0m \u001b[43m\u001b[49m\u001b[43m)\u001b[49m\n\u001b[1;32m    142\u001b[0m model\u001b[38;5;241m.\u001b[39meval()\n\u001b[1;32m    143\u001b[0m \u001b[38;5;28;01mreturn\u001b[39;00m model, epoch_history\n",
      "File \u001b[0;32m/media/gambino/students_workdir/anna/OtF-prostate/src/train.py:174\u001b[0m, in \u001b[0;36mtrain\u001b[0;34m(model, train_loader, train_loader_pairs, test_loader, test_loader_pairs, params)\u001b[0m\n\u001b[1;32m    172\u001b[0m torch\u001b[38;5;241m.\u001b[39mset_num_threads(\u001b[38;5;241m16\u001b[39m)\n\u001b[1;32m    173\u001b[0m model\u001b[38;5;241m.\u001b[39mtrain()\n\u001b[0;32m--> 174\u001b[0m \u001b[38;5;28;01mfor\u001b[39;00m model_input, model_input_pairs \u001b[38;5;129;01min\u001b[39;00m tqdm(\n\u001b[1;32m    175\u001b[0m     \u001b[38;5;28mzip\u001b[39m(train_loader, train_loader_pairs), total\u001b[38;5;241m=\u001b[39m\u001b[38;5;28mlen\u001b[39m(train_loader)\n\u001b[1;32m    176\u001b[0m ):\n\u001b[1;32m    177\u001b[0m     optimizer\u001b[38;5;241m.\u001b[39mzero_grad()\n\u001b[1;32m    178\u001b[0m     loss \u001b[38;5;241m=\u001b[39m Loss(model\u001b[38;5;241m.\u001b[39mparams\u001b[38;5;241m.\u001b[39mbeta, params\u001b[38;5;241m.\u001b[39mdropout)\n",
      "File \u001b[0;32m/media/gambino/students_workdir/anna/miniconda3/envs/ak/lib/python3.9/site-packages/tqdm/std.py:1195\u001b[0m, in \u001b[0;36mtqdm.__iter__\u001b[0;34m(self)\u001b[0m\n\u001b[1;32m   1192\u001b[0m time \u001b[38;5;241m=\u001b[39m \u001b[38;5;28mself\u001b[39m\u001b[38;5;241m.\u001b[39m_time\n\u001b[1;32m   1194\u001b[0m \u001b[38;5;28;01mtry\u001b[39;00m:\n\u001b[0;32m-> 1195\u001b[0m     \u001b[38;5;28;01mfor\u001b[39;00m obj \u001b[38;5;129;01min\u001b[39;00m iterable:\n\u001b[1;32m   1196\u001b[0m         \u001b[38;5;28;01myield\u001b[39;00m obj\n\u001b[1;32m   1197\u001b[0m         \u001b[38;5;66;03m# Update and possibly print the progressbar.\u001b[39;00m\n\u001b[1;32m   1198\u001b[0m         \u001b[38;5;66;03m# Note: does not call self.update(1) for speed optimisation.\u001b[39;00m\n",
      "File \u001b[0;32m/media/gambino/students_workdir/anna/miniconda3/envs/ak/lib/python3.9/site-packages/torch/utils/data/dataloader.py:530\u001b[0m, in \u001b[0;36m_BaseDataLoaderIter.__next__\u001b[0;34m(self)\u001b[0m\n\u001b[1;32m    528\u001b[0m \u001b[38;5;28;01mif\u001b[39;00m \u001b[38;5;28mself\u001b[39m\u001b[38;5;241m.\u001b[39m_sampler_iter \u001b[38;5;129;01mis\u001b[39;00m \u001b[38;5;28;01mNone\u001b[39;00m:\n\u001b[1;32m    529\u001b[0m     \u001b[38;5;28mself\u001b[39m\u001b[38;5;241m.\u001b[39m_reset()\n\u001b[0;32m--> 530\u001b[0m data \u001b[38;5;241m=\u001b[39m \u001b[38;5;28;43mself\u001b[39;49m\u001b[38;5;241;43m.\u001b[39;49m\u001b[43m_next_data\u001b[49m\u001b[43m(\u001b[49m\u001b[43m)\u001b[49m\n\u001b[1;32m    531\u001b[0m \u001b[38;5;28mself\u001b[39m\u001b[38;5;241m.\u001b[39m_num_yielded \u001b[38;5;241m+\u001b[39m\u001b[38;5;241m=\u001b[39m \u001b[38;5;241m1\u001b[39m\n\u001b[1;32m    532\u001b[0m \u001b[38;5;28;01mif\u001b[39;00m \u001b[38;5;28mself\u001b[39m\u001b[38;5;241m.\u001b[39m_dataset_kind \u001b[38;5;241m==\u001b[39m _DatasetKind\u001b[38;5;241m.\u001b[39mIterable \u001b[38;5;129;01mand\u001b[39;00m \\\n\u001b[1;32m    533\u001b[0m         \u001b[38;5;28mself\u001b[39m\u001b[38;5;241m.\u001b[39m_IterableDataset_len_called \u001b[38;5;129;01mis\u001b[39;00m \u001b[38;5;129;01mnot\u001b[39;00m \u001b[38;5;28;01mNone\u001b[39;00m \u001b[38;5;129;01mand\u001b[39;00m \\\n\u001b[1;32m    534\u001b[0m         \u001b[38;5;28mself\u001b[39m\u001b[38;5;241m.\u001b[39m_num_yielded \u001b[38;5;241m>\u001b[39m \u001b[38;5;28mself\u001b[39m\u001b[38;5;241m.\u001b[39m_IterableDataset_len_called:\n",
      "File \u001b[0;32m/media/gambino/students_workdir/anna/miniconda3/envs/ak/lib/python3.9/site-packages/torch/utils/data/dataloader.py:1224\u001b[0m, in \u001b[0;36m_MultiProcessingDataLoaderIter._next_data\u001b[0;34m(self)\u001b[0m\n\u001b[1;32m   1222\u001b[0m \u001b[38;5;28;01melse\u001b[39;00m:\n\u001b[1;32m   1223\u001b[0m     \u001b[38;5;28;01mdel\u001b[39;00m \u001b[38;5;28mself\u001b[39m\u001b[38;5;241m.\u001b[39m_task_info[idx]\n\u001b[0;32m-> 1224\u001b[0m     \u001b[38;5;28;01mreturn\u001b[39;00m \u001b[38;5;28;43mself\u001b[39;49m\u001b[38;5;241;43m.\u001b[39;49m\u001b[43m_process_data\u001b[49m\u001b[43m(\u001b[49m\u001b[43mdata\u001b[49m\u001b[43m)\u001b[49m\n",
      "File \u001b[0;32m/media/gambino/students_workdir/anna/miniconda3/envs/ak/lib/python3.9/site-packages/torch/utils/data/dataloader.py:1250\u001b[0m, in \u001b[0;36m_MultiProcessingDataLoaderIter._process_data\u001b[0;34m(self, data)\u001b[0m\n\u001b[1;32m   1248\u001b[0m \u001b[38;5;28mself\u001b[39m\u001b[38;5;241m.\u001b[39m_try_put_index()\n\u001b[1;32m   1249\u001b[0m \u001b[38;5;28;01mif\u001b[39;00m \u001b[38;5;28misinstance\u001b[39m(data, ExceptionWrapper):\n\u001b[0;32m-> 1250\u001b[0m     \u001b[43mdata\u001b[49m\u001b[38;5;241;43m.\u001b[39;49m\u001b[43mreraise\u001b[49m\u001b[43m(\u001b[49m\u001b[43m)\u001b[49m\n\u001b[1;32m   1251\u001b[0m \u001b[38;5;28;01mreturn\u001b[39;00m data\n",
      "File \u001b[0;32m/media/gambino/students_workdir/anna/miniconda3/envs/ak/lib/python3.9/site-packages/torch/_utils.py:457\u001b[0m, in \u001b[0;36mExceptionWrapper.reraise\u001b[0;34m(self)\u001b[0m\n\u001b[1;32m    453\u001b[0m \u001b[38;5;28;01mexcept\u001b[39;00m \u001b[38;5;167;01mTypeError\u001b[39;00m:\n\u001b[1;32m    454\u001b[0m     \u001b[38;5;66;03m# If the exception takes multiple arguments, don't try to\u001b[39;00m\n\u001b[1;32m    455\u001b[0m     \u001b[38;5;66;03m# instantiate since we don't know how to\u001b[39;00m\n\u001b[1;32m    456\u001b[0m     \u001b[38;5;28;01mraise\u001b[39;00m \u001b[38;5;167;01mRuntimeError\u001b[39;00m(msg) \u001b[38;5;28;01mfrom\u001b[39;00m \u001b[38;5;28mNone\u001b[39m\n\u001b[0;32m--> 457\u001b[0m \u001b[38;5;28;01mraise\u001b[39;00m exception\n",
      "\u001b[0;31mKeyError\u001b[0m: Caught KeyError in DataLoader worker process 0.\nOriginal Traceback (most recent call last):\n  File \"/media/gambino/students_workdir/anna/miniconda3/envs/ak/lib/python3.9/site-packages/pandas/core/indexes/base.py\", line 3802, in get_loc\n    return self._engine.get_loc(casted_key)\n  File \"pandas/_libs/index.pyx\", line 138, in pandas._libs.index.IndexEngine.get_loc\n  File \"pandas/_libs/index.pyx\", line 165, in pandas._libs.index.IndexEngine.get_loc\n  File \"pandas/_libs/hashtable_class_helper.pxi\", line 5745, in pandas._libs.hashtable.PyObjectHashTable.get_item\n  File \"pandas/_libs/hashtable_class_helper.pxi\", line 5753, in pandas._libs.hashtable.PyObjectHashTable.get_item\nKeyError: 'batch'\n\nThe above exception was the direct cause of the following exception:\n\nTraceback (most recent call last):\n  File \"/media/gambino/students_workdir/anna/miniconda3/envs/ak/lib/python3.9/site-packages/torch/utils/data/_utils/worker.py\", line 287, in _worker_loop\n    data = fetcher.fetch(index)\n  File \"/media/gambino/students_workdir/anna/miniconda3/envs/ak/lib/python3.9/site-packages/torch/utils/data/_utils/fetch.py\", line 49, in fetch\n    data = [self.dataset[idx] for idx in possibly_batched_index]\n  File \"/media/gambino/students_workdir/anna/miniconda3/envs/ak/lib/python3.9/site-packages/torch/utils/data/_utils/fetch.py\", line 49, in <listcomp>\n    data = [self.dataset[idx] for idx in possibly_batched_index]\n  File \"/media/gambino/students_workdir/anna/OtF-prostate/src/dataloader.py\", line 29, in __getitem__\n    batch1 = self._get_batch_data(index, Modality.rna)\n  File \"/media/gambino/students_workdir/anna/OtF-prostate/src/dataloader.py\", line 65, in _get_batch_data\n    return self.dataset.mod[modality.name][idx, :].obs.loc[:, BATCH_KEY].values\n  File \"/media/gambino/students_workdir/anna/miniconda3/envs/ak/lib/python3.9/site-packages/pandas/core/indexing.py\", line 1067, in __getitem__\n    return self._getitem_tuple(key)\n  File \"/media/gambino/students_workdir/anna/miniconda3/envs/ak/lib/python3.9/site-packages/pandas/core/indexing.py\", line 1247, in _getitem_tuple\n    return self._getitem_lowerdim(tup)\n  File \"/media/gambino/students_workdir/anna/miniconda3/envs/ak/lib/python3.9/site-packages/pandas/core/indexing.py\", line 967, in _getitem_lowerdim\n    section = self._getitem_axis(key, axis=i)\n  File \"/media/gambino/students_workdir/anna/miniconda3/envs/ak/lib/python3.9/site-packages/pandas/core/indexing.py\", line 1312, in _getitem_axis\n    return self._get_label(key, axis=axis)\n  File \"/media/gambino/students_workdir/anna/miniconda3/envs/ak/lib/python3.9/site-packages/pandas/core/indexing.py\", line 1260, in _get_label\n    return self.obj.xs(label, axis=axis)\n  File \"/media/gambino/students_workdir/anna/miniconda3/envs/ak/lib/python3.9/site-packages/pandas/core/generic.py\", line 4041, in xs\n    return self[key]\n  File \"/media/gambino/students_workdir/anna/miniconda3/envs/ak/lib/python3.9/site-packages/pandas/core/frame.py\", line 3807, in __getitem__\n    indexer = self.columns.get_loc(key)\n  File \"/media/gambino/students_workdir/anna/miniconda3/envs/ak/lib/python3.9/site-packages/pandas/core/indexes/base.py\", line 3804, in get_loc\n    raise KeyError(key) from err\nKeyError: 'batch'\n"
     ]
    }
   ],
   "source": [
    "model, hist = train_mvae(model, mdata, train_params)"
   ]
  },
  {
   "cell_type": "code",
   "execution_count": 44,
   "id": "a8962479",
   "metadata": {},
   "outputs": [
    {
     "data": {
      "text/plain": [
       "128"
      ]
     },
     "execution_count": 44,
     "metadata": {},
     "output_type": "execute_result"
    }
   ],
   "source": [
    "item[0][\"mod_id\"].shape[0]"
   ]
  },
  {
   "cell_type": "code",
   "execution_count": null,
   "id": "16a1416f",
   "metadata": {},
   "outputs": [],
   "source": []
  }
 ],
 "metadata": {
  "kernelspec": {
   "display_name": "ak",
   "language": "python",
   "name": "ak"
  },
  "language_info": {
   "codemirror_mode": {
    "name": "ipython",
    "version": 3
   },
   "file_extension": ".py",
   "mimetype": "text/x-python",
   "name": "python",
   "nbconvert_exporter": "python",
   "pygments_lexer": "ipython3",
   "version": "3.9.16"
  }
 },
 "nbformat": 4,
 "nbformat_minor": 5
}
