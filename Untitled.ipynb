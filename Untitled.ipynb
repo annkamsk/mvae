{
 "cells": [
  {
   "cell_type": "code",
   "execution_count": 1,
   "id": "a59f7441",
   "metadata": {},
   "outputs": [],
   "source": [
    "import os\n",
    "os.environ[\"CUDA_VISIBLE_DEVICES\"]=\"1\""
   ]
  },
  {
   "cell_type": "code",
   "execution_count": 2,
   "id": "8fd8b185",
   "metadata": {},
   "outputs": [
    {
     "name": "stdout",
     "output_type": "stream",
     "text": [
      "0.8.0\n",
      "0.2.1\n",
      "1.9.2\n",
      "1.11.0\n"
     ]
    }
   ],
   "source": [
    "import numpy as np\n",
    "import torch\n",
    "import scanpy as sc\n",
    "import muon as mu\n",
    "import anndata\n",
    "import mudata\n",
    "import pandas as pd\n",
    "from anndata.experimental.pytorch import AnnLoader\n",
    "from sklearn.preprocessing import OneHotEncoder\n",
    "from tqdm import tqdm \n",
    "import matplotlib.pyplot as plt\n",
    "\n",
    "print(anndata.__version__)\n",
    "print(mudata.__version__)\n",
    "print(sc.__version__)\n",
    "print(torch.__version__)"
   ]
  },
  {
   "cell_type": "code",
   "execution_count": 3,
   "id": "9f334ed5",
   "metadata": {},
   "outputs": [],
   "source": [
    "%load_ext autoreload\n",
    "%autoreload 2"
   ]
  },
  {
   "cell_type": "code",
   "execution_count": 32,
   "id": "930b084c",
   "metadata": {},
   "outputs": [],
   "source": [
    "mdata = mu.read('/media/yob/nacho_stuff/prostate_cancer/Integration/MVAE-PoE/OtF-prostate/data/mdata_preprocessed_no_929DLC1_final_filtered.h5mu')"
   ]
  },
  {
   "cell_type": "code",
   "execution_count": 37,
   "id": "9d7f2a0a",
   "metadata": {},
   "outputs": [],
   "source": [
    "mdata.obs['extra_categorical_covs']=0\n",
    "# assign batch_id\n",
    "mdata.mod['rna'].obs['batch_id'] = pd.Categorical(pd.factorize(mdata.mod['rna'].obs.loc[: ,'sample'])[0])\n",
    "mdata.mod['msi'].obs['batch_id'] = pd.Categorical(pd.factorize(mdata.mod['msi'].obs.loc[: ,'sample'])[0])\n",
    "\n",
    "# assign batch\n",
    "s_ids = list(mdata.obs.loc[:, 'sample'].unique())\n",
    "d = dict(zip(s_ids, np.arange(len(s_ids))))\n",
    "mdata.obs['batch_id']= mdata.obs.loc[:, 'sample'].map(d)"
   ]
  },
  {
   "cell_type": "code",
   "execution_count": 34,
   "id": "5bdd979a",
   "metadata": {},
   "outputs": [],
   "source": [
    "from src.dataloader import mudata_to_dataloader, ObsModalityMembership, Modality"
   ]
  },
  {
   "cell_type": "code",
   "execution_count": 40,
   "id": "86164a4f",
   "metadata": {},
   "outputs": [
    {
     "name": "stdout",
     "output_type": "stream",
     "text": [
      "Index(['304-929_cancer_20um', '1304-929_cancer_20um', '1522-929_cancer_20um',\n",
      "       '163-929_cancer_20um', '347-929_cancer_20um', '1582-929_cancer_20um',\n",
      "       '1172-929_cancer_20um', '92-929_cancer_20um', '1715-929_cancer_20um',\n",
      "       '1058-929_cancer_20um',\n",
      "       ...\n",
      "       '2654-952_normal_10um', '1250-952_normal_10um', '1379-952_normal_10um',\n",
      "       '1209-952_normal_10um', '1647-952_normal_10um', '2671-952_normal_10um',\n",
      "       '1517-952_normal_10um', '57-952_normal_10um', '2176-952_normal_10um',\n",
      "       '2224-952_normal_10um'],\n",
      "      dtype='object', length=40533)\n"
     ]
    }
   ],
   "source": [
    "train_loader, train_loader_pairs = mudata_to_dataloader(\n",
    "    mdata,\n",
    "    batch_size=128,\n",
    "    shuffle=False,\n",
    ")"
   ]
  },
  {
   "cell_type": "code",
   "execution_count": 41,
   "id": "5148ec37",
   "metadata": {},
   "outputs": [],
   "source": [
    "item = next(zip(train_loader, train_loader_pairs))"
   ]
  },
  {
   "cell_type": "code",
   "execution_count": 44,
   "id": "a8962479",
   "metadata": {},
   "outputs": [
    {
     "data": {
      "text/plain": [
       "128"
      ]
     },
     "execution_count": 44,
     "metadata": {},
     "output_type": "execute_result"
    }
   ],
   "source": [
    "item[0][\"mod_id\"].shape[0]"
   ]
  },
  {
   "cell_type": "code",
   "execution_count": null,
   "id": "16a1416f",
   "metadata": {},
   "outputs": [],
   "source": []
  }
 ],
 "metadata": {
  "kernelspec": {
   "display_name": "ak",
   "language": "python",
   "name": "ak"
  },
  "language_info": {
   "codemirror_mode": {
    "name": "ipython",
    "version": 3
   },
   "file_extension": ".py",
   "mimetype": "text/x-python",
   "name": "python",
   "nbconvert_exporter": "python",
   "pygments_lexer": "ipython3",
   "version": "3.9.16"
  }
 },
 "nbformat": 4,
 "nbformat_minor": 5
}
